{
 "cells": [
  {
   "cell_type": "markdown",
   "id": "numeric-offset",
   "metadata": {},
   "source": [
    "In test data set we didn't have some columns so first we need predict the columns values based on available values."
   ]
  },
  {
   "cell_type": "code",
   "execution_count": 50,
   "id": "developing-magic",
   "metadata": {},
   "outputs": [],
   "source": [
    "import numpy as np # linear algebra\n",
    "import pandas as pd # data processing, CSV file I/O (e.g. pd.read_csv)\n",
    "\n",
    "#Library for Modelling \n",
    "from sklearn.linear_model import LinearRegression\n",
    "from sklearn.ensemble import RandomForestRegressor\n",
    "from sklearn.linear_model import Lasso\n",
    "from sklearn.linear_model import Ridge\n",
    "\n",
    "#Library for Visualization\n",
    "import seaborn as sns\n",
    "import matplotlib.pyplot as plt\n",
    "from matplotlib.pyplot import figure\n",
    "\n",
    "%matplotlib inline"
   ]
  },
  {
   "cell_type": "code",
   "execution_count": 51,
   "id": "ready-arbor",
   "metadata": {},
   "outputs": [],
   "source": [
    "train_data=pd.read_csv('competitive-data-science-predict-future-sales/sales_train.csv')\n",
    "test_data=pd.read_csv('competitive-data-science-predict-future-sales/test.csv')"
   ]
  },
  {
   "cell_type": "code",
   "execution_count": 52,
   "id": "shaped-score",
   "metadata": {},
   "outputs": [
    {
     "data": {
      "text/html": [
       "<div>\n",
       "<style scoped>\n",
       "    .dataframe tbody tr th:only-of-type {\n",
       "        vertical-align: middle;\n",
       "    }\n",
       "\n",
       "    .dataframe tbody tr th {\n",
       "        vertical-align: top;\n",
       "    }\n",
       "\n",
       "    .dataframe thead th {\n",
       "        text-align: right;\n",
       "    }\n",
       "</style>\n",
       "<table border=\"1\" class=\"dataframe\">\n",
       "  <thead>\n",
       "    <tr style=\"text-align: right;\">\n",
       "      <th></th>\n",
       "      <th>date</th>\n",
       "      <th>date_block_num</th>\n",
       "      <th>shop_id</th>\n",
       "      <th>item_id</th>\n",
       "      <th>item_price</th>\n",
       "      <th>item_cnt_day</th>\n",
       "    </tr>\n",
       "  </thead>\n",
       "  <tbody>\n",
       "    <tr>\n",
       "      <th>0</th>\n",
       "      <td>02.01.2013</td>\n",
       "      <td>0</td>\n",
       "      <td>59</td>\n",
       "      <td>22154</td>\n",
       "      <td>999.00</td>\n",
       "      <td>1.0</td>\n",
       "    </tr>\n",
       "    <tr>\n",
       "      <th>1</th>\n",
       "      <td>03.01.2013</td>\n",
       "      <td>0</td>\n",
       "      <td>25</td>\n",
       "      <td>2552</td>\n",
       "      <td>899.00</td>\n",
       "      <td>1.0</td>\n",
       "    </tr>\n",
       "    <tr>\n",
       "      <th>2</th>\n",
       "      <td>05.01.2013</td>\n",
       "      <td>0</td>\n",
       "      <td>25</td>\n",
       "      <td>2552</td>\n",
       "      <td>899.00</td>\n",
       "      <td>-1.0</td>\n",
       "    </tr>\n",
       "    <tr>\n",
       "      <th>3</th>\n",
       "      <td>06.01.2013</td>\n",
       "      <td>0</td>\n",
       "      <td>25</td>\n",
       "      <td>2554</td>\n",
       "      <td>1709.05</td>\n",
       "      <td>1.0</td>\n",
       "    </tr>\n",
       "    <tr>\n",
       "      <th>4</th>\n",
       "      <td>15.01.2013</td>\n",
       "      <td>0</td>\n",
       "      <td>25</td>\n",
       "      <td>2555</td>\n",
       "      <td>1099.00</td>\n",
       "      <td>1.0</td>\n",
       "    </tr>\n",
       "  </tbody>\n",
       "</table>\n",
       "</div>"
      ],
      "text/plain": [
       "         date  date_block_num  shop_id  item_id  item_price  item_cnt_day\n",
       "0  02.01.2013               0       59    22154      999.00           1.0\n",
       "1  03.01.2013               0       25     2552      899.00           1.0\n",
       "2  05.01.2013               0       25     2552      899.00          -1.0\n",
       "3  06.01.2013               0       25     2554     1709.05           1.0\n",
       "4  15.01.2013               0       25     2555     1099.00           1.0"
      ]
     },
     "execution_count": 52,
     "metadata": {},
     "output_type": "execute_result"
    }
   ],
   "source": [
    "train_data.head()"
   ]
  },
  {
   "cell_type": "code",
   "execution_count": 53,
   "id": "reasonable-cricket",
   "metadata": {},
   "outputs": [],
   "source": [
    "#Changing Negative numbers into Positive\n",
    "train_data['item_price']=train_data['item_price'].abs()\n",
    "train_data['item_cnt_day']=train_data['item_cnt_day'].abs()"
   ]
  },
  {
   "cell_type": "code",
   "execution_count": 54,
   "id": "skilled-offer",
   "metadata": {},
   "outputs": [
    {
     "name": "stdout",
     "output_type": "stream",
     "text": [
      "date              0.0\n",
      "date_block_num    0.0\n",
      "shop_id           0.0\n",
      "item_id           0.0\n",
      "item_price        0.0\n",
      "item_cnt_day      0.0\n",
      "dtype: float64\n"
     ]
    }
   ],
   "source": [
    "#Checking if the training data has any Null values or not\n",
    "null_percent=100*(train_data.isnull().sum()/len(train_data))\n",
    "print(null_percent)"
   ]
  },
  {
   "cell_type": "code",
   "execution_count": 55,
   "id": "respective-digit",
   "metadata": {},
   "outputs": [
    {
     "data": {
      "text/html": [
       "<div>\n",
       "<style scoped>\n",
       "    .dataframe tbody tr th:only-of-type {\n",
       "        vertical-align: middle;\n",
       "    }\n",
       "\n",
       "    .dataframe tbody tr th {\n",
       "        vertical-align: top;\n",
       "    }\n",
       "\n",
       "    .dataframe thead th {\n",
       "        text-align: right;\n",
       "    }\n",
       "</style>\n",
       "<table border=\"1\" class=\"dataframe\">\n",
       "  <thead>\n",
       "    <tr style=\"text-align: right;\">\n",
       "      <th></th>\n",
       "      <th>date_block_num</th>\n",
       "      <th>shop_id</th>\n",
       "      <th>item_id</th>\n",
       "      <th>item_price</th>\n",
       "      <th>item_cnt_month</th>\n",
       "    </tr>\n",
       "  </thead>\n",
       "  <tbody>\n",
       "    <tr>\n",
       "      <th>0</th>\n",
       "      <td>0</td>\n",
       "      <td>0</td>\n",
       "      <td>32</td>\n",
       "      <td>221.0</td>\n",
       "      <td>6.0</td>\n",
       "    </tr>\n",
       "    <tr>\n",
       "      <th>1</th>\n",
       "      <td>0</td>\n",
       "      <td>0</td>\n",
       "      <td>33</td>\n",
       "      <td>347.0</td>\n",
       "      <td>3.0</td>\n",
       "    </tr>\n",
       "    <tr>\n",
       "      <th>2</th>\n",
       "      <td>0</td>\n",
       "      <td>0</td>\n",
       "      <td>35</td>\n",
       "      <td>247.0</td>\n",
       "      <td>1.0</td>\n",
       "    </tr>\n",
       "    <tr>\n",
       "      <th>3</th>\n",
       "      <td>0</td>\n",
       "      <td>0</td>\n",
       "      <td>43</td>\n",
       "      <td>221.0</td>\n",
       "      <td>1.0</td>\n",
       "    </tr>\n",
       "    <tr>\n",
       "      <th>4</th>\n",
       "      <td>0</td>\n",
       "      <td>0</td>\n",
       "      <td>51</td>\n",
       "      <td>127.0</td>\n",
       "      <td>2.0</td>\n",
       "    </tr>\n",
       "  </tbody>\n",
       "</table>\n",
       "</div>"
      ],
      "text/plain": [
       "   date_block_num  shop_id  item_id  item_price  item_cnt_month\n",
       "0               0        0       32       221.0             6.0\n",
       "1               0        0       33       347.0             3.0\n",
       "2               0        0       35       247.0             1.0\n",
       "3               0        0       43       221.0             1.0\n",
       "4               0        0       51       127.0             2.0"
      ]
     },
     "execution_count": 55,
     "metadata": {},
     "output_type": "execute_result"
    }
   ],
   "source": [
    "#Grouping item price and item count per month\n",
    "train_data=train_data.groupby(['date_block_num','shop_id','item_id']).agg({'item_price':'last','item_cnt_day':'sum'}).reset_index()\n",
    "\n",
    "#Changing the name of the item_cnt_day to item_cnt_month\n",
    "train_data=train_data.rename(columns={'item_cnt_day':'item_cnt_month'})\n",
    "train_data.head()"
   ]
  },
  {
   "cell_type": "code",
   "execution_count": 56,
   "id": "varying-connectivity",
   "metadata": {},
   "outputs": [
    {
     "name": "stdout",
     "output_type": "stream",
     "text": [
      "item_price\n",
      "item_cnt_month\n"
     ]
    }
   ],
   "source": [
    "for feature in train_data.columns:\n",
    "    if 0 in train_data[feature].unique():\n",
    "        pass\n",
    "    else:\n",
    "        print(feature)\n",
    "        train_data[feature]=np.log(train_data[feature])"
   ]
  },
  {
   "cell_type": "code",
   "execution_count": 57,
   "id": "swiss-vegetation",
   "metadata": {},
   "outputs": [
    {
     "data": {
      "text/html": [
       "<div>\n",
       "<style scoped>\n",
       "    .dataframe tbody tr th:only-of-type {\n",
       "        vertical-align: middle;\n",
       "    }\n",
       "\n",
       "    .dataframe tbody tr th {\n",
       "        vertical-align: top;\n",
       "    }\n",
       "\n",
       "    .dataframe thead th {\n",
       "        text-align: right;\n",
       "    }\n",
       "</style>\n",
       "<table border=\"1\" class=\"dataframe\">\n",
       "  <thead>\n",
       "    <tr style=\"text-align: right;\">\n",
       "      <th></th>\n",
       "      <th>date_block_num</th>\n",
       "      <th>shop_id</th>\n",
       "      <th>item_id</th>\n",
       "      <th>item_price</th>\n",
       "      <th>item_cnt_month</th>\n",
       "    </tr>\n",
       "  </thead>\n",
       "  <tbody>\n",
       "    <tr>\n",
       "      <th>0</th>\n",
       "      <td>-1.536816</td>\n",
       "      <td>-1.983784</td>\n",
       "      <td>-1.706875</td>\n",
       "      <td>-0.649855</td>\n",
       "      <td>2.059322</td>\n",
       "    </tr>\n",
       "    <tr>\n",
       "      <th>1</th>\n",
       "      <td>-1.536816</td>\n",
       "      <td>-1.983784</td>\n",
       "      <td>-1.706715</td>\n",
       "      <td>-0.213787</td>\n",
       "      <td>1.032998</td>\n",
       "    </tr>\n",
       "    <tr>\n",
       "      <th>2</th>\n",
       "      <td>-1.536816</td>\n",
       "      <td>-1.983784</td>\n",
       "      <td>-1.706394</td>\n",
       "      <td>-0.542350</td>\n",
       "      <td>-0.593688</td>\n",
       "    </tr>\n",
       "    <tr>\n",
       "      <th>3</th>\n",
       "      <td>-1.536816</td>\n",
       "      <td>-1.983784</td>\n",
       "      <td>-1.705112</td>\n",
       "      <td>-0.649855</td>\n",
       "      <td>-0.593688</td>\n",
       "    </tr>\n",
       "    <tr>\n",
       "      <th>4</th>\n",
       "      <td>-1.536816</td>\n",
       "      <td>-1.983784</td>\n",
       "      <td>-1.703830</td>\n",
       "      <td>-1.185296</td>\n",
       "      <td>0.432636</td>\n",
       "    </tr>\n",
       "  </tbody>\n",
       "</table>\n",
       "</div>"
      ],
      "text/plain": [
       "   date_block_num   shop_id   item_id  item_price  item_cnt_month\n",
       "0       -1.536816 -1.983784 -1.706875   -0.649855        2.059322\n",
       "1       -1.536816 -1.983784 -1.706715   -0.213787        1.032998\n",
       "2       -1.536816 -1.983784 -1.706394   -0.542350       -0.593688\n",
       "3       -1.536816 -1.983784 -1.705112   -0.649855       -0.593688\n",
       "4       -1.536816 -1.983784 -1.703830   -1.185296        0.432636"
      ]
     },
     "execution_count": 57,
     "metadata": {},
     "output_type": "execute_result"
    }
   ],
   "source": [
    "# from sklearn.preprocessing import MinMaxScaler\n",
    "# scaler = MinMaxScaler()\n",
    "\n",
    "from sklearn.preprocessing import StandardScaler\n",
    "scaler = StandardScaler()\n",
    "\n",
    "scaler.fit(train_data)\n",
    "\n",
    "train_data = pd.DataFrame(scaler.transform(train_data), columns = train_data.columns)\n",
    "\n",
    "train_data.head()"
   ]
  },
  {
   "cell_type": "code",
   "execution_count": 58,
   "id": "ranking-cleveland",
   "metadata": {},
   "outputs": [],
   "source": [
    "x_train = train_data.drop(labels=[\"item_cnt_month\", \"item_price\"], axis=1)\n",
    "\n",
    "y_train = train_data[\"item_price\"]"
   ]
  },
  {
   "cell_type": "code",
   "execution_count": 59,
   "id": "speaking-retailer",
   "metadata": {},
   "outputs": [
    {
     "data": {
      "text/plain": [
       "Index(['date_block_num', 'shop_id', 'item_id'], dtype='object')"
      ]
     },
     "execution_count": 59,
     "metadata": {},
     "output_type": "execute_result"
    }
   ],
   "source": [
    "x_train.columns"
   ]
  },
  {
   "cell_type": "markdown",
   "id": "quantitative-prior",
   "metadata": {},
   "source": [
    "In predict_date_block_num (ipynb file) we predict the date_block_num values use that to predict the sale price"
   ]
  },
  {
   "cell_type": "code",
   "execution_count": 60,
   "id": "current-capture",
   "metadata": {},
   "outputs": [
    {
     "data": {
      "text/html": [
       "<div>\n",
       "<style scoped>\n",
       "    .dataframe tbody tr th:only-of-type {\n",
       "        vertical-align: middle;\n",
       "    }\n",
       "\n",
       "    .dataframe tbody tr th {\n",
       "        vertical-align: top;\n",
       "    }\n",
       "\n",
       "    .dataframe thead th {\n",
       "        text-align: right;\n",
       "    }\n",
       "</style>\n",
       "<table border=\"1\" class=\"dataframe\">\n",
       "  <thead>\n",
       "    <tr style=\"text-align: right;\">\n",
       "      <th></th>\n",
       "      <th>ID</th>\n",
       "      <th>shop_id</th>\n",
       "      <th>item_id</th>\n",
       "      <th>predicted_date_block_num</th>\n",
       "    </tr>\n",
       "  </thead>\n",
       "  <tbody>\n",
       "    <tr>\n",
       "      <th>0</th>\n",
       "      <td>0</td>\n",
       "      <td>5</td>\n",
       "      <td>5037</td>\n",
       "      <td>-1.060742</td>\n",
       "    </tr>\n",
       "    <tr>\n",
       "      <th>1</th>\n",
       "      <td>1</td>\n",
       "      <td>5</td>\n",
       "      <td>5320</td>\n",
       "      <td>-0.328165</td>\n",
       "    </tr>\n",
       "    <tr>\n",
       "      <th>2</th>\n",
       "      <td>2</td>\n",
       "      <td>5</td>\n",
       "      <td>5233</td>\n",
       "      <td>-1.422938</td>\n",
       "    </tr>\n",
       "    <tr>\n",
       "      <th>3</th>\n",
       "      <td>3</td>\n",
       "      <td>5</td>\n",
       "      <td>5232</td>\n",
       "      <td>-1.456473</td>\n",
       "    </tr>\n",
       "    <tr>\n",
       "      <th>4</th>\n",
       "      <td>4</td>\n",
       "      <td>5</td>\n",
       "      <td>5268</td>\n",
       "      <td>1.177408</td>\n",
       "    </tr>\n",
       "  </tbody>\n",
       "</table>\n",
       "</div>"
      ],
      "text/plain": [
       "   ID  shop_id  item_id  predicted_date_block_num\n",
       "0   0        5     5037                 -1.060742\n",
       "1   1        5     5320                 -0.328165\n",
       "2   2        5     5233                 -1.422938\n",
       "3   3        5     5232                 -1.456473\n",
       "4   4        5     5268                  1.177408"
      ]
     },
     "execution_count": 60,
     "metadata": {},
     "output_type": "execute_result"
    }
   ],
   "source": [
    "date_block_num= pd.read_csv(\"predicted/date_block_num.csv\")\n",
    "\n",
    "test_data = test_data.join(date_block_num)\n",
    "test_data.head()"
   ]
  },
  {
   "cell_type": "code",
   "execution_count": 61,
   "id": "automated-marriage",
   "metadata": {},
   "outputs": [
    {
     "data": {
      "text/plain": [
       "ID                          0\n",
       "shop_id                     0\n",
       "item_id                     0\n",
       "predicted_date_block_num    0\n",
       "dtype: int64"
      ]
     },
     "execution_count": 61,
     "metadata": {},
     "output_type": "execute_result"
    }
   ],
   "source": [
    "scaler.fit(test_data)\n",
    "\n",
    "test_data = pd.DataFrame(scaler.transform(test_data), columns = test_data.columns)\n",
    "\n",
    "test_data.isnull().sum()"
   ]
  },
  {
   "cell_type": "code",
   "execution_count": 62,
   "id": "received-wallace",
   "metadata": {},
   "outputs": [],
   "source": [
    "x_test = test_data.drop(labels=[\"ID\"], axis=1)"
   ]
  },
  {
   "cell_type": "code",
   "execution_count": 63,
   "id": "active-arrangement",
   "metadata": {},
   "outputs": [],
   "source": [
    "# rr_model=RandomForestRegressor(n_estimators=5)\n",
    "# rr_model.fit(x_train,y_train)\n",
    "\n",
    "# rr_predict=rr_model.predict(x_test)\n",
    "# print(rr_predict)"
   ]
  },
  {
   "cell_type": "code",
   "execution_count": 64,
   "id": "capable-anniversary",
   "metadata": {},
   "outputs": [
    {
     "name": "stdout",
     "output_type": "stream",
     "text": [
      "[ 0.09676399 -0.10478825  0.19439706 ...  0.02995926 -0.34791378\n",
      "  0.46183384]\n"
     ]
    }
   ],
   "source": [
    "#Training the model\n",
    "linear_model=LinearRegression()\n",
    "linear_model.fit(x_train,y_train)\n",
    "\n",
    "#Testing the model\n",
    "linear_prediction=linear_model.predict(x_test)\n",
    "\n",
    "#output is the predicted cnt_per_month\n",
    "print(linear_prediction)"
   ]
  },
  {
   "cell_type": "code",
   "execution_count": 65,
   "id": "purple-bailey",
   "metadata": {},
   "outputs": [],
   "source": [
    "val = pd.Series(rr_predict)"
   ]
  },
  {
   "cell_type": "code",
   "execution_count": 66,
   "id": "accepted-trailer",
   "metadata": {},
   "outputs": [],
   "source": [
    "val.to_csv(\"predicted/item_price.csv\", header = [\"predicted_item_price\"], index=False)"
   ]
  },
  {
   "cell_type": "code",
   "execution_count": null,
   "id": "adequate-camera",
   "metadata": {},
   "outputs": [],
   "source": []
  },
  {
   "cell_type": "code",
   "execution_count": null,
   "id": "greenhouse-sender",
   "metadata": {},
   "outputs": [],
   "source": []
  },
  {
   "cell_type": "code",
   "execution_count": null,
   "id": "small-choice",
   "metadata": {},
   "outputs": [],
   "source": []
  }
 ],
 "metadata": {
  "kernelspec": {
   "display_name": "Python 3",
   "language": "python",
   "name": "python3"
  },
  "language_info": {
   "codemirror_mode": {
    "name": "ipython",
    "version": 3
   },
   "file_extension": ".py",
   "mimetype": "text/x-python",
   "name": "python",
   "nbconvert_exporter": "python",
   "pygments_lexer": "ipython3",
   "version": "3.6.9"
  }
 },
 "nbformat": 4,
 "nbformat_minor": 5
}
