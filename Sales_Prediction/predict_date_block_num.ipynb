{
 "cells": [
  {
   "cell_type": "markdown",
   "id": "alpine-blowing",
   "metadata": {},
   "source": [
    "-In test data set we didn't have some columns so first we need predict the columns values based on available values."
   ]
  },
  {
   "cell_type": "code",
   "execution_count": 54,
   "id": "integral-judges",
   "metadata": {},
   "outputs": [],
   "source": [
    "import numpy as np # linear algebra\n",
    "import pandas as pd # data processing, CSV file I/O (e.g. pd.read_csv)\n",
    "\n",
    "#Library for Modelling \n",
    "from sklearn.linear_model import LinearRegression\n",
    "from sklearn.ensemble import RandomForestRegressor\n",
    "from sklearn.linear_model import Lasso\n",
    "from sklearn.linear_model import Ridge\n",
    "\n",
    "#Library for Visualization\n",
    "import seaborn as sns\n",
    "import matplotlib.pyplot as plt\n",
    "from matplotlib.pyplot import figure\n",
    "\n",
    "%matplotlib inline"
   ]
  },
  {
   "cell_type": "code",
   "execution_count": 55,
   "id": "figured-beach",
   "metadata": {},
   "outputs": [],
   "source": [
    "train_data=pd.read_csv('competitive-data-science-predict-future-sales/sales_train.csv')\n",
    "test_data=pd.read_csv('competitive-data-science-predict-future-sales/test.csv')"
   ]
  },
  {
   "cell_type": "code",
   "execution_count": 56,
   "id": "dramatic-diving",
   "metadata": {},
   "outputs": [
    {
     "data": {
      "text/html": [
       "<div>\n",
       "<style scoped>\n",
       "    .dataframe tbody tr th:only-of-type {\n",
       "        vertical-align: middle;\n",
       "    }\n",
       "\n",
       "    .dataframe tbody tr th {\n",
       "        vertical-align: top;\n",
       "    }\n",
       "\n",
       "    .dataframe thead th {\n",
       "        text-align: right;\n",
       "    }\n",
       "</style>\n",
       "<table border=\"1\" class=\"dataframe\">\n",
       "  <thead>\n",
       "    <tr style=\"text-align: right;\">\n",
       "      <th></th>\n",
       "      <th>date</th>\n",
       "      <th>date_block_num</th>\n",
       "      <th>shop_id</th>\n",
       "      <th>item_id</th>\n",
       "      <th>item_price</th>\n",
       "      <th>item_cnt_day</th>\n",
       "    </tr>\n",
       "  </thead>\n",
       "  <tbody>\n",
       "    <tr>\n",
       "      <th>0</th>\n",
       "      <td>02.01.2013</td>\n",
       "      <td>0</td>\n",
       "      <td>59</td>\n",
       "      <td>22154</td>\n",
       "      <td>999.00</td>\n",
       "      <td>1.0</td>\n",
       "    </tr>\n",
       "    <tr>\n",
       "      <th>1</th>\n",
       "      <td>03.01.2013</td>\n",
       "      <td>0</td>\n",
       "      <td>25</td>\n",
       "      <td>2552</td>\n",
       "      <td>899.00</td>\n",
       "      <td>1.0</td>\n",
       "    </tr>\n",
       "    <tr>\n",
       "      <th>2</th>\n",
       "      <td>05.01.2013</td>\n",
       "      <td>0</td>\n",
       "      <td>25</td>\n",
       "      <td>2552</td>\n",
       "      <td>899.00</td>\n",
       "      <td>-1.0</td>\n",
       "    </tr>\n",
       "    <tr>\n",
       "      <th>3</th>\n",
       "      <td>06.01.2013</td>\n",
       "      <td>0</td>\n",
       "      <td>25</td>\n",
       "      <td>2554</td>\n",
       "      <td>1709.05</td>\n",
       "      <td>1.0</td>\n",
       "    </tr>\n",
       "    <tr>\n",
       "      <th>4</th>\n",
       "      <td>15.01.2013</td>\n",
       "      <td>0</td>\n",
       "      <td>25</td>\n",
       "      <td>2555</td>\n",
       "      <td>1099.00</td>\n",
       "      <td>1.0</td>\n",
       "    </tr>\n",
       "  </tbody>\n",
       "</table>\n",
       "</div>"
      ],
      "text/plain": [
       "         date  date_block_num  shop_id  item_id  item_price  item_cnt_day\n",
       "0  02.01.2013               0       59    22154      999.00           1.0\n",
       "1  03.01.2013               0       25     2552      899.00           1.0\n",
       "2  05.01.2013               0       25     2552      899.00          -1.0\n",
       "3  06.01.2013               0       25     2554     1709.05           1.0\n",
       "4  15.01.2013               0       25     2555     1099.00           1.0"
      ]
     },
     "execution_count": 56,
     "metadata": {},
     "output_type": "execute_result"
    }
   ],
   "source": [
    "train_data.head()"
   ]
  },
  {
   "cell_type": "code",
   "execution_count": 57,
   "id": "coordinate-local",
   "metadata": {},
   "outputs": [],
   "source": [
    "#Changing Negative numbers into Positive\n",
    "train_data['item_price']=train_data['item_price'].abs()\n",
    "train_data['item_cnt_day']=train_data['item_cnt_day'].abs()"
   ]
  },
  {
   "cell_type": "code",
   "execution_count": 58,
   "id": "terminal-absolute",
   "metadata": {},
   "outputs": [
    {
     "name": "stdout",
     "output_type": "stream",
     "text": [
      "date              0.0\n",
      "date_block_num    0.0\n",
      "shop_id           0.0\n",
      "item_id           0.0\n",
      "item_price        0.0\n",
      "item_cnt_day      0.0\n",
      "dtype: float64\n"
     ]
    }
   ],
   "source": [
    "#Checking if the training data has any Null values or not\n",
    "null_percent=100*(train_data.isnull().sum()/len(train_data))\n",
    "print(null_percent)"
   ]
  },
  {
   "cell_type": "code",
   "execution_count": 59,
   "id": "received-being",
   "metadata": {},
   "outputs": [
    {
     "data": {
      "text/html": [
       "<div>\n",
       "<style scoped>\n",
       "    .dataframe tbody tr th:only-of-type {\n",
       "        vertical-align: middle;\n",
       "    }\n",
       "\n",
       "    .dataframe tbody tr th {\n",
       "        vertical-align: top;\n",
       "    }\n",
       "\n",
       "    .dataframe thead th {\n",
       "        text-align: right;\n",
       "    }\n",
       "</style>\n",
       "<table border=\"1\" class=\"dataframe\">\n",
       "  <thead>\n",
       "    <tr style=\"text-align: right;\">\n",
       "      <th></th>\n",
       "      <th>date_block_num</th>\n",
       "      <th>shop_id</th>\n",
       "      <th>item_id</th>\n",
       "      <th>item_price</th>\n",
       "      <th>item_cnt_month</th>\n",
       "    </tr>\n",
       "  </thead>\n",
       "  <tbody>\n",
       "    <tr>\n",
       "      <th>0</th>\n",
       "      <td>0</td>\n",
       "      <td>0</td>\n",
       "      <td>32</td>\n",
       "      <td>221.0</td>\n",
       "      <td>6.0</td>\n",
       "    </tr>\n",
       "    <tr>\n",
       "      <th>1</th>\n",
       "      <td>0</td>\n",
       "      <td>0</td>\n",
       "      <td>33</td>\n",
       "      <td>347.0</td>\n",
       "      <td>3.0</td>\n",
       "    </tr>\n",
       "    <tr>\n",
       "      <th>2</th>\n",
       "      <td>0</td>\n",
       "      <td>0</td>\n",
       "      <td>35</td>\n",
       "      <td>247.0</td>\n",
       "      <td>1.0</td>\n",
       "    </tr>\n",
       "    <tr>\n",
       "      <th>3</th>\n",
       "      <td>0</td>\n",
       "      <td>0</td>\n",
       "      <td>43</td>\n",
       "      <td>221.0</td>\n",
       "      <td>1.0</td>\n",
       "    </tr>\n",
       "    <tr>\n",
       "      <th>4</th>\n",
       "      <td>0</td>\n",
       "      <td>0</td>\n",
       "      <td>51</td>\n",
       "      <td>127.0</td>\n",
       "      <td>2.0</td>\n",
       "    </tr>\n",
       "  </tbody>\n",
       "</table>\n",
       "</div>"
      ],
      "text/plain": [
       "   date_block_num  shop_id  item_id  item_price  item_cnt_month\n",
       "0               0        0       32       221.0             6.0\n",
       "1               0        0       33       347.0             3.0\n",
       "2               0        0       35       247.0             1.0\n",
       "3               0        0       43       221.0             1.0\n",
       "4               0        0       51       127.0             2.0"
      ]
     },
     "execution_count": 59,
     "metadata": {},
     "output_type": "execute_result"
    }
   ],
   "source": [
    "#Grouping item price and item count per month\n",
    "train_data=train_data.groupby(['date_block_num','shop_id','item_id']).agg({'item_price':'last','item_cnt_day':'sum'}).reset_index()\n",
    "\n",
    "#Changing the name of the item_cnt_day to item_cnt_month\n",
    "train_data=train_data.rename(columns={'item_cnt_day':'item_cnt_month'})\n",
    "train_data.head()"
   ]
  },
  {
   "cell_type": "code",
   "execution_count": 60,
   "id": "active-titanium",
   "metadata": {},
   "outputs": [
    {
     "name": "stdout",
     "output_type": "stream",
     "text": [
      "item_price\n",
      "item_cnt_month\n"
     ]
    }
   ],
   "source": [
    "for feature in train_data.columns:\n",
    "    if 0 in train_data[feature].unique():\n",
    "        pass\n",
    "    else:\n",
    "        print(feature)\n",
    "        train_data[feature]=np.log(train_data[feature])"
   ]
  },
  {
   "cell_type": "code",
   "execution_count": 61,
   "id": "quality-narrative",
   "metadata": {},
   "outputs": [
    {
     "data": {
      "text/html": [
       "<div>\n",
       "<style scoped>\n",
       "    .dataframe tbody tr th:only-of-type {\n",
       "        vertical-align: middle;\n",
       "    }\n",
       "\n",
       "    .dataframe tbody tr th {\n",
       "        vertical-align: top;\n",
       "    }\n",
       "\n",
       "    .dataframe thead th {\n",
       "        text-align: right;\n",
       "    }\n",
       "</style>\n",
       "<table border=\"1\" class=\"dataframe\">\n",
       "  <thead>\n",
       "    <tr style=\"text-align: right;\">\n",
       "      <th></th>\n",
       "      <th>date_block_num</th>\n",
       "      <th>shop_id</th>\n",
       "      <th>item_id</th>\n",
       "      <th>item_price</th>\n",
       "      <th>item_cnt_month</th>\n",
       "    </tr>\n",
       "  </thead>\n",
       "  <tbody>\n",
       "    <tr>\n",
       "      <th>0</th>\n",
       "      <td>-1.536816</td>\n",
       "      <td>-1.983784</td>\n",
       "      <td>-1.706875</td>\n",
       "      <td>-0.649855</td>\n",
       "      <td>2.059322</td>\n",
       "    </tr>\n",
       "    <tr>\n",
       "      <th>1</th>\n",
       "      <td>-1.536816</td>\n",
       "      <td>-1.983784</td>\n",
       "      <td>-1.706715</td>\n",
       "      <td>-0.213787</td>\n",
       "      <td>1.032998</td>\n",
       "    </tr>\n",
       "    <tr>\n",
       "      <th>2</th>\n",
       "      <td>-1.536816</td>\n",
       "      <td>-1.983784</td>\n",
       "      <td>-1.706394</td>\n",
       "      <td>-0.542350</td>\n",
       "      <td>-0.593688</td>\n",
       "    </tr>\n",
       "    <tr>\n",
       "      <th>3</th>\n",
       "      <td>-1.536816</td>\n",
       "      <td>-1.983784</td>\n",
       "      <td>-1.705112</td>\n",
       "      <td>-0.649855</td>\n",
       "      <td>-0.593688</td>\n",
       "    </tr>\n",
       "    <tr>\n",
       "      <th>4</th>\n",
       "      <td>-1.536816</td>\n",
       "      <td>-1.983784</td>\n",
       "      <td>-1.703830</td>\n",
       "      <td>-1.185296</td>\n",
       "      <td>0.432636</td>\n",
       "    </tr>\n",
       "  </tbody>\n",
       "</table>\n",
       "</div>"
      ],
      "text/plain": [
       "   date_block_num   shop_id   item_id  item_price  item_cnt_month\n",
       "0       -1.536816 -1.983784 -1.706875   -0.649855        2.059322\n",
       "1       -1.536816 -1.983784 -1.706715   -0.213787        1.032998\n",
       "2       -1.536816 -1.983784 -1.706394   -0.542350       -0.593688\n",
       "3       -1.536816 -1.983784 -1.705112   -0.649855       -0.593688\n",
       "4       -1.536816 -1.983784 -1.703830   -1.185296        0.432636"
      ]
     },
     "execution_count": 61,
     "metadata": {},
     "output_type": "execute_result"
    }
   ],
   "source": [
    "# from sklearn.preprocessing import MinMaxScaler\n",
    "# scaler = MinMaxScaler()\n",
    "\n",
    "from sklearn.preprocessing import StandardScaler\n",
    "scaler = StandardScaler()\n",
    "\n",
    "scaler.fit(train_data)\n",
    "\n",
    "train_data = pd.DataFrame(scaler.transform(train_data), columns = train_data.columns)\n",
    "\n",
    "train_data.head()"
   ]
  },
  {
   "cell_type": "code",
   "execution_count": 62,
   "id": "dress-phase",
   "metadata": {},
   "outputs": [],
   "source": [
    "x_train = train_data.drop(labels=[\"item_cnt_month\", \"date_block_num\", \"item_price\"], axis=1)\n",
    "\n",
    "y_train = train_data[\"date_block_num\"]"
   ]
  },
  {
   "cell_type": "code",
   "execution_count": 63,
   "id": "opponent-lotus",
   "metadata": {},
   "outputs": [
    {
     "data": {
      "text/plain": [
       "ID         0\n",
       "shop_id    0\n",
       "item_id    0\n",
       "dtype: int64"
      ]
     },
     "execution_count": 63,
     "metadata": {},
     "output_type": "execute_result"
    }
   ],
   "source": [
    "scaler.fit(test_data)\n",
    "\n",
    "test_data = pd.DataFrame(scaler.transform(test_data), columns = test_data.columns)\n",
    "\n",
    "test_data.isnull().sum()"
   ]
  },
  {
   "cell_type": "code",
   "execution_count": 64,
   "id": "minute-qualification",
   "metadata": {},
   "outputs": [],
   "source": [
    "x_test = test_data.drop(labels=[\"ID\"], axis=1)"
   ]
  },
  {
   "cell_type": "code",
   "execution_count": 65,
   "id": "warming-offering",
   "metadata": {},
   "outputs": [
    {
     "data": {
      "text/html": [
       "<div>\n",
       "<style scoped>\n",
       "    .dataframe tbody tr th:only-of-type {\n",
       "        vertical-align: middle;\n",
       "    }\n",
       "\n",
       "    .dataframe tbody tr th {\n",
       "        vertical-align: top;\n",
       "    }\n",
       "\n",
       "    .dataframe thead th {\n",
       "        text-align: right;\n",
       "    }\n",
       "</style>\n",
       "<table border=\"1\" class=\"dataframe\">\n",
       "  <thead>\n",
       "    <tr style=\"text-align: right;\">\n",
       "      <th></th>\n",
       "      <th>shop_id</th>\n",
       "      <th>item_id</th>\n",
       "    </tr>\n",
       "  </thead>\n",
       "  <tbody>\n",
       "    <tr>\n",
       "      <th>0</th>\n",
       "      <td>-1.983784</td>\n",
       "      <td>-1.706875</td>\n",
       "    </tr>\n",
       "    <tr>\n",
       "      <th>1</th>\n",
       "      <td>-1.983784</td>\n",
       "      <td>-1.706715</td>\n",
       "    </tr>\n",
       "    <tr>\n",
       "      <th>2</th>\n",
       "      <td>-1.983784</td>\n",
       "      <td>-1.706394</td>\n",
       "    </tr>\n",
       "    <tr>\n",
       "      <th>3</th>\n",
       "      <td>-1.983784</td>\n",
       "      <td>-1.705112</td>\n",
       "    </tr>\n",
       "    <tr>\n",
       "      <th>4</th>\n",
       "      <td>-1.983784</td>\n",
       "      <td>-1.703830</td>\n",
       "    </tr>\n",
       "  </tbody>\n",
       "</table>\n",
       "</div>"
      ],
      "text/plain": [
       "    shop_id   item_id\n",
       "0 -1.983784 -1.706875\n",
       "1 -1.983784 -1.706715\n",
       "2 -1.983784 -1.706394\n",
       "3 -1.983784 -1.705112\n",
       "4 -1.983784 -1.703830"
      ]
     },
     "execution_count": 65,
     "metadata": {},
     "output_type": "execute_result"
    }
   ],
   "source": [
    "x_train.head()"
   ]
  },
  {
   "cell_type": "code",
   "execution_count": 66,
   "id": "soviet-copyright",
   "metadata": {},
   "outputs": [
    {
     "data": {
      "text/plain": [
       "0   -1.536816\n",
       "1   -1.536816\n",
       "2   -1.536816\n",
       "3   -1.536816\n",
       "4   -1.536816\n",
       "Name: date_block_num, dtype: float64"
      ]
     },
     "execution_count": 66,
     "metadata": {},
     "output_type": "execute_result"
    }
   ],
   "source": [
    "y_train.head()"
   ]
  },
  {
   "cell_type": "code",
   "execution_count": 67,
   "id": "charming-latino",
   "metadata": {},
   "outputs": [
    {
     "data": {
      "text/html": [
       "<div>\n",
       "<style scoped>\n",
       "    .dataframe tbody tr th:only-of-type {\n",
       "        vertical-align: middle;\n",
       "    }\n",
       "\n",
       "    .dataframe tbody tr th {\n",
       "        vertical-align: top;\n",
       "    }\n",
       "\n",
       "    .dataframe thead th {\n",
       "        text-align: right;\n",
       "    }\n",
       "</style>\n",
       "<table border=\"1\" class=\"dataframe\">\n",
       "  <thead>\n",
       "    <tr style=\"text-align: right;\">\n",
       "      <th></th>\n",
       "      <th>shop_id</th>\n",
       "      <th>item_id</th>\n",
       "    </tr>\n",
       "  </thead>\n",
       "  <tbody>\n",
       "    <tr>\n",
       "      <th>0</th>\n",
       "      <td>-1.517083</td>\n",
       "      <td>-0.956781</td>\n",
       "    </tr>\n",
       "    <tr>\n",
       "      <th>1</th>\n",
       "      <td>-1.517083</td>\n",
       "      <td>-0.911520</td>\n",
       "    </tr>\n",
       "    <tr>\n",
       "      <th>2</th>\n",
       "      <td>-1.517083</td>\n",
       "      <td>-0.925434</td>\n",
       "    </tr>\n",
       "    <tr>\n",
       "      <th>3</th>\n",
       "      <td>-1.517083</td>\n",
       "      <td>-0.925594</td>\n",
       "    </tr>\n",
       "    <tr>\n",
       "      <th>4</th>\n",
       "      <td>-1.517083</td>\n",
       "      <td>-0.919837</td>\n",
       "    </tr>\n",
       "  </tbody>\n",
       "</table>\n",
       "</div>"
      ],
      "text/plain": [
       "    shop_id   item_id\n",
       "0 -1.517083 -0.956781\n",
       "1 -1.517083 -0.911520\n",
       "2 -1.517083 -0.925434\n",
       "3 -1.517083 -0.925594\n",
       "4 -1.517083 -0.919837"
      ]
     },
     "execution_count": 67,
     "metadata": {},
     "output_type": "execute_result"
    }
   ],
   "source": [
    "x_test.head()"
   ]
  },
  {
   "cell_type": "code",
   "execution_count": 68,
   "id": "taken-aberdeen",
   "metadata": {},
   "outputs": [],
   "source": [
    "# linear_prediction.min(), linear_prediction.max()"
   ]
  },
  {
   "cell_type": "code",
   "execution_count": 69,
   "id": "protective-bottom",
   "metadata": {},
   "outputs": [],
   "source": [
    "# rr_model=RandomForestRegressor(n_estimators=5)\n",
    "# rr_model.fit(x_train,y_train)\n",
    "\n",
    "# rr_predict=rr_model.predict(x_test)\n",
    "# print(rr_predict)"
   ]
  },
  {
   "cell_type": "code",
   "execution_count": 70,
   "id": "flexible-strength",
   "metadata": {},
   "outputs": [
    {
     "name": "stdout",
     "output_type": "stream",
     "text": [
      "[-0.0277896  -0.02809375 -0.02800025 ...  0.01206375  0.00788194\n",
      "  0.02795696]\n"
     ]
    }
   ],
   "source": [
    "#Training the model\n",
    "linear_model=LinearRegression()\n",
    "linear_model.fit(x_train,y_train)\n",
    "\n",
    "#Testing the model\n",
    "linear_prediction=linear_model.predict(x_test)\n",
    "\n",
    "#output is the predicted cnt_per_month\n",
    "print(linear_prediction)"
   ]
  },
  {
   "cell_type": "code",
   "execution_count": 71,
   "id": "headed-category",
   "metadata": {},
   "outputs": [],
   "source": [
    "val = pd.Series(rr_predict)"
   ]
  },
  {
   "cell_type": "code",
   "execution_count": 72,
   "id": "defensive-cache",
   "metadata": {},
   "outputs": [],
   "source": [
    "val.to_csv(\"predicted/date_block_num.csv\", header = [\"predicted_date_block_num\"], index=False)"
   ]
  }
 ],
 "metadata": {
  "kernelspec": {
   "display_name": "Python 3",
   "language": "python",
   "name": "python3"
  },
  "language_info": {
   "codemirror_mode": {
    "name": "ipython",
    "version": 3
   },
   "file_extension": ".py",
   "mimetype": "text/x-python",
   "name": "python",
   "nbconvert_exporter": "python",
   "pygments_lexer": "ipython3",
   "version": "3.6.9"
  }
 },
 "nbformat": 4,
 "nbformat_minor": 5
}
