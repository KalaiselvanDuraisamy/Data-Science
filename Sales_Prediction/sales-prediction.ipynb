{
 "cells": [
  {
   "cell_type": "code",
   "execution_count": 296,
   "id": "4714d00c",
   "metadata": {
    "_cell_guid": "b1076dfc-b9ad-4769-8c92-a6c4dae69d19",
    "_uuid": "8f2839f25d086af736a60e9eeb907d3b93b6e0e5",
    "execution": {
     "iopub.execute_input": "2021-08-24T04:40:51.750110Z",
     "iopub.status.busy": "2021-08-24T04:40:51.749451Z",
     "iopub.status.idle": "2021-08-24T04:40:53.144189Z",
     "shell.execute_reply": "2021-08-24T04:40:53.144661Z",
     "shell.execute_reply.started": "2021-08-24T04:34:09.073971Z"
    },
    "papermill": {
     "duration": 1.426798,
     "end_time": "2021-08-24T04:40:53.144963",
     "exception": false,
     "start_time": "2021-08-24T04:40:51.718165",
     "status": "completed"
    },
    "tags": []
   },
   "outputs": [],
   "source": [
    "import numpy as np # linear algebra\n",
    "import pandas as pd # data processing, CSV file I/O (e.g. pd.read_csv)\n",
    "\n",
    "#Library for Modelling \n",
    "from sklearn.linear_model import LinearRegression\n",
    "from sklearn.ensemble import RandomForestRegressor\n",
    "from sklearn.linear_model import Lasso\n",
    "from sklearn.linear_model import Ridge\n",
    "\n",
    "#Library for Visualization\n",
    "import seaborn as sns\n",
    "import matplotlib.pyplot as plt\n",
    "from matplotlib.pyplot import figure\n",
    "\n",
    "%matplotlib inline"
   ]
  },
  {
   "cell_type": "markdown",
   "id": "72fb57fe",
   "metadata": {
    "papermill": {
     "duration": 0.018997,
     "end_time": "2021-08-24T04:40:53.183546",
     "exception": false,
     "start_time": "2021-08-24T04:40:53.164549",
     "status": "completed"
    },
    "tags": []
   },
   "source": [
    "# Data Manipulation"
   ]
  },
  {
   "cell_type": "code",
   "execution_count": 297,
   "id": "e23413de",
   "metadata": {
    "execution": {
     "iopub.execute_input": "2021-08-24T04:40:53.226131Z",
     "iopub.status.busy": "2021-08-24T04:40:53.225407Z",
     "iopub.status.idle": "2021-08-24T04:40:55.526561Z",
     "shell.execute_reply": "2021-08-24T04:40:55.525945Z",
     "shell.execute_reply.started": "2021-08-24T04:34:10.550552Z"
    },
    "papermill": {
     "duration": 2.324582,
     "end_time": "2021-08-24T04:40:55.526743",
     "exception": false,
     "start_time": "2021-08-24T04:40:53.202161",
     "status": "completed"
    },
    "tags": []
   },
   "outputs": [],
   "source": [
    "#Loading data into training and testing sets\n",
    "train_data=pd.read_csv('competitive-data-science-predict-future-sales/sales_train.csv')"
   ]
  },
  {
   "cell_type": "code",
   "execution_count": 298,
   "id": "fe8a3fbc",
   "metadata": {
    "execution": {
     "iopub.execute_input": "2021-08-24T04:40:55.576968Z",
     "iopub.status.busy": "2021-08-24T04:40:55.576056Z",
     "iopub.status.idle": "2021-08-24T04:40:55.596600Z",
     "shell.execute_reply": "2021-08-24T04:40:55.597053Z",
     "shell.execute_reply.started": "2021-08-24T04:34:13.486935Z"
    },
    "papermill": {
     "duration": 0.051216,
     "end_time": "2021-08-24T04:40:55.597213",
     "exception": false,
     "start_time": "2021-08-24T04:40:55.545997",
     "status": "completed"
    },
    "tags": []
   },
   "outputs": [
    {
     "data": {
      "text/html": [
       "<div>\n",
       "<style scoped>\n",
       "    .dataframe tbody tr th:only-of-type {\n",
       "        vertical-align: middle;\n",
       "    }\n",
       "\n",
       "    .dataframe tbody tr th {\n",
       "        vertical-align: top;\n",
       "    }\n",
       "\n",
       "    .dataframe thead th {\n",
       "        text-align: right;\n",
       "    }\n",
       "</style>\n",
       "<table border=\"1\" class=\"dataframe\">\n",
       "  <thead>\n",
       "    <tr style=\"text-align: right;\">\n",
       "      <th></th>\n",
       "      <th>date</th>\n",
       "      <th>date_block_num</th>\n",
       "      <th>shop_id</th>\n",
       "      <th>item_id</th>\n",
       "      <th>item_price</th>\n",
       "      <th>item_cnt_day</th>\n",
       "    </tr>\n",
       "  </thead>\n",
       "  <tbody>\n",
       "    <tr>\n",
       "      <th>0</th>\n",
       "      <td>02.01.2013</td>\n",
       "      <td>0</td>\n",
       "      <td>59</td>\n",
       "      <td>22154</td>\n",
       "      <td>999.00</td>\n",
       "      <td>1.0</td>\n",
       "    </tr>\n",
       "    <tr>\n",
       "      <th>1</th>\n",
       "      <td>03.01.2013</td>\n",
       "      <td>0</td>\n",
       "      <td>25</td>\n",
       "      <td>2552</td>\n",
       "      <td>899.00</td>\n",
       "      <td>1.0</td>\n",
       "    </tr>\n",
       "    <tr>\n",
       "      <th>2</th>\n",
       "      <td>05.01.2013</td>\n",
       "      <td>0</td>\n",
       "      <td>25</td>\n",
       "      <td>2552</td>\n",
       "      <td>899.00</td>\n",
       "      <td>-1.0</td>\n",
       "    </tr>\n",
       "    <tr>\n",
       "      <th>3</th>\n",
       "      <td>06.01.2013</td>\n",
       "      <td>0</td>\n",
       "      <td>25</td>\n",
       "      <td>2554</td>\n",
       "      <td>1709.05</td>\n",
       "      <td>1.0</td>\n",
       "    </tr>\n",
       "    <tr>\n",
       "      <th>4</th>\n",
       "      <td>15.01.2013</td>\n",
       "      <td>0</td>\n",
       "      <td>25</td>\n",
       "      <td>2555</td>\n",
       "      <td>1099.00</td>\n",
       "      <td>1.0</td>\n",
       "    </tr>\n",
       "  </tbody>\n",
       "</table>\n",
       "</div>"
      ],
      "text/plain": [
       "         date  date_block_num  shop_id  item_id  item_price  item_cnt_day\n",
       "0  02.01.2013               0       59    22154      999.00           1.0\n",
       "1  03.01.2013               0       25     2552      899.00           1.0\n",
       "2  05.01.2013               0       25     2552      899.00          -1.0\n",
       "3  06.01.2013               0       25     2554     1709.05           1.0\n",
       "4  15.01.2013               0       25     2555     1099.00           1.0"
      ]
     },
     "execution_count": 298,
     "metadata": {},
     "output_type": "execute_result"
    }
   ],
   "source": [
    "#Displaying Training Data\n",
    "train_data.head()"
   ]
  },
  {
   "cell_type": "markdown",
   "id": "b5ce2828",
   "metadata": {
    "papermill": {
     "duration": 0.018906,
     "end_time": "2021-08-24T04:40:55.686201",
     "exception": false,
     "start_time": "2021-08-24T04:40:55.667295",
     "status": "completed"
    },
    "tags": []
   },
   "source": [
    "**Preparing Training Data**"
   ]
  },
  {
   "cell_type": "code",
   "execution_count": 299,
   "id": "0b704876",
   "metadata": {
    "execution": {
     "iopub.execute_input": "2021-08-24T04:40:55.743994Z",
     "iopub.status.busy": "2021-08-24T04:40:55.743357Z",
     "iopub.status.idle": "2021-08-24T04:40:55.746656Z",
     "shell.execute_reply": "2021-08-24T04:40:55.747121Z",
     "shell.execute_reply.started": "2021-08-24T04:34:13.529256Z"
    },
    "papermill": {
     "duration": 0.040781,
     "end_time": "2021-08-24T04:40:55.747308",
     "exception": false,
     "start_time": "2021-08-24T04:40:55.706527",
     "status": "completed"
    },
    "tags": []
   },
   "outputs": [
    {
     "name": "stdout",
     "output_type": "stream",
     "text": [
      "<class 'pandas.core.frame.DataFrame'>\n",
      "RangeIndex: 2935849 entries, 0 to 2935848\n",
      "Data columns (total 6 columns):\n",
      " #   Column          Dtype  \n",
      "---  ------          -----  \n",
      " 0   date            object \n",
      " 1   date_block_num  int64  \n",
      " 2   shop_id         int64  \n",
      " 3   item_id         int64  \n",
      " 4   item_price      float64\n",
      " 5   item_cnt_day    float64\n",
      "dtypes: float64(2), int64(3), object(1)\n",
      "memory usage: 134.4+ MB\n"
     ]
    }
   ],
   "source": [
    "#Displaying Metadata/Information about Training Data\n",
    "train_data.info()"
   ]
  },
  {
   "cell_type": "code",
   "execution_count": 300,
   "id": "3a15e918",
   "metadata": {
    "execution": {
     "iopub.execute_input": "2021-08-24T04:40:55.834978Z",
     "iopub.status.busy": "2021-08-24T04:40:55.834335Z",
     "iopub.status.idle": "2021-08-24T04:40:56.200686Z",
     "shell.execute_reply": "2021-08-24T04:40:56.200195Z",
     "shell.execute_reply.started": "2021-08-24T04:34:13.552533Z"
    },
    "papermill": {
     "duration": 0.43399,
     "end_time": "2021-08-24T04:40:56.200820",
     "exception": false,
     "start_time": "2021-08-24T04:40:55.766830",
     "status": "completed"
    },
    "tags": []
   },
   "outputs": [
    {
     "data": {
      "text/html": [
       "<div>\n",
       "<style scoped>\n",
       "    .dataframe tbody tr th:only-of-type {\n",
       "        vertical-align: middle;\n",
       "    }\n",
       "\n",
       "    .dataframe tbody tr th {\n",
       "        vertical-align: top;\n",
       "    }\n",
       "\n",
       "    .dataframe thead th {\n",
       "        text-align: right;\n",
       "    }\n",
       "</style>\n",
       "<table border=\"1\" class=\"dataframe\">\n",
       "  <thead>\n",
       "    <tr style=\"text-align: right;\">\n",
       "      <th></th>\n",
       "      <th>date_block_num</th>\n",
       "      <th>shop_id</th>\n",
       "      <th>item_id</th>\n",
       "      <th>item_price</th>\n",
       "      <th>item_cnt_day</th>\n",
       "    </tr>\n",
       "  </thead>\n",
       "  <tbody>\n",
       "    <tr>\n",
       "      <th>count</th>\n",
       "      <td>2.935849e+06</td>\n",
       "      <td>2.935849e+06</td>\n",
       "      <td>2.935849e+06</td>\n",
       "      <td>2.935849e+06</td>\n",
       "      <td>2.935849e+06</td>\n",
       "    </tr>\n",
       "    <tr>\n",
       "      <th>mean</th>\n",
       "      <td>1.456991e+01</td>\n",
       "      <td>3.300173e+01</td>\n",
       "      <td>1.019723e+04</td>\n",
       "      <td>8.908532e+02</td>\n",
       "      <td>1.242641e+00</td>\n",
       "    </tr>\n",
       "    <tr>\n",
       "      <th>std</th>\n",
       "      <td>9.422988e+00</td>\n",
       "      <td>1.622697e+01</td>\n",
       "      <td>6.324297e+03</td>\n",
       "      <td>1.729800e+03</td>\n",
       "      <td>2.618834e+00</td>\n",
       "    </tr>\n",
       "    <tr>\n",
       "      <th>min</th>\n",
       "      <td>0.000000e+00</td>\n",
       "      <td>0.000000e+00</td>\n",
       "      <td>0.000000e+00</td>\n",
       "      <td>-1.000000e+00</td>\n",
       "      <td>-2.200000e+01</td>\n",
       "    </tr>\n",
       "    <tr>\n",
       "      <th>25%</th>\n",
       "      <td>7.000000e+00</td>\n",
       "      <td>2.200000e+01</td>\n",
       "      <td>4.476000e+03</td>\n",
       "      <td>2.490000e+02</td>\n",
       "      <td>1.000000e+00</td>\n",
       "    </tr>\n",
       "    <tr>\n",
       "      <th>50%</th>\n",
       "      <td>1.400000e+01</td>\n",
       "      <td>3.100000e+01</td>\n",
       "      <td>9.343000e+03</td>\n",
       "      <td>3.990000e+02</td>\n",
       "      <td>1.000000e+00</td>\n",
       "    </tr>\n",
       "    <tr>\n",
       "      <th>75%</th>\n",
       "      <td>2.300000e+01</td>\n",
       "      <td>4.700000e+01</td>\n",
       "      <td>1.568400e+04</td>\n",
       "      <td>9.990000e+02</td>\n",
       "      <td>1.000000e+00</td>\n",
       "    </tr>\n",
       "    <tr>\n",
       "      <th>max</th>\n",
       "      <td>3.300000e+01</td>\n",
       "      <td>5.900000e+01</td>\n",
       "      <td>2.216900e+04</td>\n",
       "      <td>3.079800e+05</td>\n",
       "      <td>2.169000e+03</td>\n",
       "    </tr>\n",
       "  </tbody>\n",
       "</table>\n",
       "</div>"
      ],
      "text/plain": [
       "       date_block_num       shop_id       item_id    item_price  item_cnt_day\n",
       "count    2.935849e+06  2.935849e+06  2.935849e+06  2.935849e+06  2.935849e+06\n",
       "mean     1.456991e+01  3.300173e+01  1.019723e+04  8.908532e+02  1.242641e+00\n",
       "std      9.422988e+00  1.622697e+01  6.324297e+03  1.729800e+03  2.618834e+00\n",
       "min      0.000000e+00  0.000000e+00  0.000000e+00 -1.000000e+00 -2.200000e+01\n",
       "25%      7.000000e+00  2.200000e+01  4.476000e+03  2.490000e+02  1.000000e+00\n",
       "50%      1.400000e+01  3.100000e+01  9.343000e+03  3.990000e+02  1.000000e+00\n",
       "75%      2.300000e+01  4.700000e+01  1.568400e+04  9.990000e+02  1.000000e+00\n",
       "max      3.300000e+01  5.900000e+01  2.216900e+04  3.079800e+05  2.169000e+03"
      ]
     },
     "execution_count": 300,
     "metadata": {},
     "output_type": "execute_result"
    }
   ],
   "source": [
    "#Displaying Stats on Training Data\n",
    "train_data.describe()"
   ]
  },
  {
   "cell_type": "markdown",
   "id": "333e0ab6",
   "metadata": {
    "papermill": {
     "duration": 0.019596,
     "end_time": "2021-08-24T04:40:56.240574",
     "exception": false,
     "start_time": "2021-08-24T04:40:56.220978",
     "status": "completed"
    },
    "tags": []
   },
   "source": [
    "Here, it could be noticed that item_price and item_cnt_day consist of Negative Numbers. These values should be changed into positive because as the value is in negative it does not make any sense, item price being in negative."
   ]
  },
  {
   "cell_type": "code",
   "execution_count": 301,
   "id": "211ec8af",
   "metadata": {
    "execution": {
     "iopub.execute_input": "2021-08-24T04:40:56.284765Z",
     "iopub.status.busy": "2021-08-24T04:40:56.284190Z",
     "iopub.status.idle": "2021-08-24T04:40:56.317388Z",
     "shell.execute_reply": "2021-08-24T04:40:56.316682Z",
     "shell.execute_reply.started": "2021-08-24T04:34:13.966577Z"
    },
    "papermill": {
     "duration": 0.057113,
     "end_time": "2021-08-24T04:40:56.317528",
     "exception": false,
     "start_time": "2021-08-24T04:40:56.260415",
     "status": "completed"
    },
    "tags": []
   },
   "outputs": [],
   "source": [
    "#Changing Negative numbers into Positive\n",
    "train_data['item_price']=train_data['item_price'].abs()\n",
    "train_data['item_cnt_day']=train_data['item_cnt_day'].abs()"
   ]
  },
  {
   "cell_type": "code",
   "execution_count": 302,
   "id": "7a4a71ae",
   "metadata": {
    "execution": {
     "iopub.execute_input": "2021-08-24T04:40:56.362044Z",
     "iopub.status.busy": "2021-08-24T04:40:56.361396Z",
     "iopub.status.idle": "2021-08-24T04:40:56.520575Z",
     "shell.execute_reply": "2021-08-24T04:40:56.521298Z",
     "shell.execute_reply.started": "2021-08-24T04:34:14.004382Z"
    },
    "papermill": {
     "duration": 0.184037,
     "end_time": "2021-08-24T04:40:56.521526",
     "exception": false,
     "start_time": "2021-08-24T04:40:56.337489",
     "status": "completed"
    },
    "tags": []
   },
   "outputs": [
    {
     "name": "stdout",
     "output_type": "stream",
     "text": [
      "date              0.0\n",
      "date_block_num    0.0\n",
      "shop_id           0.0\n",
      "item_id           0.0\n",
      "item_price        0.0\n",
      "item_cnt_day      0.0\n",
      "dtype: float64\n"
     ]
    }
   ],
   "source": [
    "#Checking if the training data has any Null values or not\n",
    "null_percent=100*(train_data.isnull().sum()/len(train_data))\n",
    "print(null_percent)"
   ]
  },
  {
   "cell_type": "markdown",
   "id": "d130f901",
   "metadata": {
    "papermill": {
     "duration": 0.019894,
     "end_time": "2021-08-24T04:40:56.562287",
     "exception": false,
     "start_time": "2021-08-24T04:40:56.542393",
     "status": "completed"
    },
    "tags": []
   },
   "source": [
    "As the item count per month is to be predicted, item_cnt_day will be converted to item_cnt_mnt"
   ]
  },
  {
   "cell_type": "code",
   "execution_count": 303,
   "id": "5d14d71b",
   "metadata": {
    "execution": {
     "iopub.execute_input": "2021-08-24T04:40:56.612643Z",
     "iopub.status.busy": "2021-08-24T04:40:56.612007Z",
     "iopub.status.idle": "2021-08-24T04:40:57.453211Z",
     "shell.execute_reply": "2021-08-24T04:40:57.452327Z",
     "shell.execute_reply.started": "2021-08-24T04:34:14.338291Z"
    },
    "papermill": {
     "duration": 0.870815,
     "end_time": "2021-08-24T04:40:57.453430",
     "exception": false,
     "start_time": "2021-08-24T04:40:56.582615",
     "status": "completed"
    },
    "tags": []
   },
   "outputs": [
    {
     "name": "stdout",
     "output_type": "stream",
     "text": [
      "         date_block_num  shop_id  item_id  item_price  item_cnt_month\n",
      "0                     0        0       32       221.0             6.0\n",
      "1                     0        0       33       347.0             3.0\n",
      "2                     0        0       35       247.0             1.0\n",
      "3                     0        0       43       221.0             1.0\n",
      "4                     0        0       51       127.0             2.0\n",
      "...                 ...      ...      ...         ...             ...\n",
      "1609119              33       59    22087       119.0             6.0\n",
      "1609120              33       59    22088       119.0             2.0\n",
      "1609121              33       59    22091       179.0             1.0\n",
      "1609122              33       59    22100       629.0             1.0\n",
      "1609123              33       59    22102      1250.0             1.0\n",
      "\n",
      "[1609124 rows x 5 columns]\n"
     ]
    }
   ],
   "source": [
    "#Grouping item price and item count per month\n",
    "train_data=train_data.groupby(['date_block_num','shop_id','item_id']).agg({'item_price':'last','item_cnt_day':'sum'}).reset_index()\n",
    "\n",
    "#Changing the name of the item_cnt_day to item_cnt_month\n",
    "train_data=train_data.rename(columns={'item_cnt_day':'item_cnt_month'})\n",
    "print(train_data)"
   ]
  },
  {
   "cell_type": "code",
   "execution_count": null,
   "id": "armed-johns",
   "metadata": {},
   "outputs": [],
   "source": []
  },
  {
   "cell_type": "markdown",
   "id": "8a0b01f5",
   "metadata": {
    "papermill": {
     "duration": 0.020643,
     "end_time": "2021-08-24T04:40:57.495129",
     "exception": false,
     "start_time": "2021-08-24T04:40:57.474486",
     "status": "completed"
    },
    "tags": []
   },
   "source": [
    "**Correlation is a good way to find whether the data columns have linear relationship with item_cnt_day or not. If the correlation value is closer to one, then the data columns are positively related.**"
   ]
  },
  {
   "cell_type": "code",
   "execution_count": 304,
   "id": "30ad9bde",
   "metadata": {
    "execution": {
     "iopub.execute_input": "2021-08-24T04:40:57.541496Z",
     "iopub.status.busy": "2021-08-24T04:40:57.540833Z",
     "iopub.status.idle": "2021-08-24T04:40:58.062102Z",
     "shell.execute_reply": "2021-08-24T04:40:58.061539Z",
     "shell.execute_reply.started": "2021-08-24T04:34:15.183383Z"
    },
    "papermill": {
     "duration": 0.546556,
     "end_time": "2021-08-24T04:40:58.062254",
     "exception": false,
     "start_time": "2021-08-24T04:40:57.515698",
     "status": "completed"
    },
    "tags": []
   },
   "outputs": [
    {
     "data": {
      "image/png": "[encoded data removed]",
      "text/plain": [
       "<Figure size 864x864 with 2 Axes>"
      ]
     },
     "metadata": {
      "needs_background": "light"
     },
     "output_type": "display_data"
    }
   ],
   "source": [
    "#Calculating Correlation\n",
    "correlation=train_data.corr(method='spearman')    ### diff. corelation methods - pearson, kendall\n",
    "\n",
    "#Plotting correlation\n",
    "plt.figure(figsize=(12,12))\n",
    "corr_heatmap=sns.heatmap(correlation,annot=True,cmap=\"GnBu\")"
   ]
  },
  {
   "cell_type": "code",
   "execution_count": 305,
   "id": "generous-christmas",
   "metadata": {},
   "outputs": [
    {
     "data": {
      "text/html": [
       "<div>\n",
       "<style scoped>\n",
       "    .dataframe tbody tr th:only-of-type {\n",
       "        vertical-align: middle;\n",
       "    }\n",
       "\n",
       "    .dataframe tbody tr th {\n",
       "        vertical-align: top;\n",
       "    }\n",
       "\n",
       "    .dataframe thead th {\n",
       "        text-align: right;\n",
       "    }\n",
       "</style>\n",
       "<table border=\"1\" class=\"dataframe\">\n",
       "  <thead>\n",
       "    <tr style=\"text-align: right;\">\n",
       "      <th></th>\n",
       "      <th>date_block_num</th>\n",
       "      <th>shop_id</th>\n",
       "      <th>item_id</th>\n",
       "      <th>item_price</th>\n",
       "      <th>item_cnt_month</th>\n",
       "    </tr>\n",
       "  </thead>\n",
       "  <tbody>\n",
       "    <tr>\n",
       "      <th>0</th>\n",
       "      <td>0</td>\n",
       "      <td>0</td>\n",
       "      <td>32</td>\n",
       "      <td>221.0</td>\n",
       "      <td>6.0</td>\n",
       "    </tr>\n",
       "    <tr>\n",
       "      <th>1</th>\n",
       "      <td>0</td>\n",
       "      <td>0</td>\n",
       "      <td>33</td>\n",
       "      <td>347.0</td>\n",
       "      <td>3.0</td>\n",
       "    </tr>\n",
       "    <tr>\n",
       "      <th>2</th>\n",
       "      <td>0</td>\n",
       "      <td>0</td>\n",
       "      <td>35</td>\n",
       "      <td>247.0</td>\n",
       "      <td>1.0</td>\n",
       "    </tr>\n",
       "    <tr>\n",
       "      <th>3</th>\n",
       "      <td>0</td>\n",
       "      <td>0</td>\n",
       "      <td>43</td>\n",
       "      <td>221.0</td>\n",
       "      <td>1.0</td>\n",
       "    </tr>\n",
       "    <tr>\n",
       "      <th>4</th>\n",
       "      <td>0</td>\n",
       "      <td>0</td>\n",
       "      <td>51</td>\n",
       "      <td>127.0</td>\n",
       "      <td>2.0</td>\n",
       "    </tr>\n",
       "    <tr>\n",
       "      <th>...</th>\n",
       "      <td>...</td>\n",
       "      <td>...</td>\n",
       "      <td>...</td>\n",
       "      <td>...</td>\n",
       "      <td>...</td>\n",
       "    </tr>\n",
       "    <tr>\n",
       "      <th>1609119</th>\n",
       "      <td>33</td>\n",
       "      <td>59</td>\n",
       "      <td>22087</td>\n",
       "      <td>119.0</td>\n",
       "      <td>6.0</td>\n",
       "    </tr>\n",
       "    <tr>\n",
       "      <th>1609120</th>\n",
       "      <td>33</td>\n",
       "      <td>59</td>\n",
       "      <td>22088</td>\n",
       "      <td>119.0</td>\n",
       "      <td>2.0</td>\n",
       "    </tr>\n",
       "    <tr>\n",
       "      <th>1609121</th>\n",
       "      <td>33</td>\n",
       "      <td>59</td>\n",
       "      <td>22091</td>\n",
       "      <td>179.0</td>\n",
       "      <td>1.0</td>\n",
       "    </tr>\n",
       "    <tr>\n",
       "      <th>1609122</th>\n",
       "      <td>33</td>\n",
       "      <td>59</td>\n",
       "      <td>22100</td>\n",
       "      <td>629.0</td>\n",
       "      <td>1.0</td>\n",
       "    </tr>\n",
       "    <tr>\n",
       "      <th>1609123</th>\n",
       "      <td>33</td>\n",
       "      <td>59</td>\n",
       "      <td>22102</td>\n",
       "      <td>1250.0</td>\n",
       "      <td>1.0</td>\n",
       "    </tr>\n",
       "  </tbody>\n",
       "</table>\n",
       "<p>1609124 rows × 5 columns</p>\n",
       "</div>"
      ],
      "text/plain": [
       "         date_block_num  shop_id  item_id  item_price  item_cnt_month\n",
       "0                     0        0       32       221.0             6.0\n",
       "1                     0        0       33       347.0             3.0\n",
       "2                     0        0       35       247.0             1.0\n",
       "3                     0        0       43       221.0             1.0\n",
       "4                     0        0       51       127.0             2.0\n",
       "...                 ...      ...      ...         ...             ...\n",
       "1609119              33       59    22087       119.0             6.0\n",
       "1609120              33       59    22088       119.0             2.0\n",
       "1609121              33       59    22091       179.0             1.0\n",
       "1609122              33       59    22100       629.0             1.0\n",
       "1609123              33       59    22102      1250.0             1.0\n",
       "\n",
       "[1609124 rows x 5 columns]"
      ]
     },
     "execution_count": 305,
     "metadata": {},
     "output_type": "execute_result"
    }
   ],
   "source": [
    "train_data"
   ]
  },
  {
   "cell_type": "markdown",
   "id": "shaped-chicago",
   "metadata": {},
   "source": [
    "# Outliers"
   ]
  },
  {
   "cell_type": "code",
   "execution_count": 306,
   "id": "heated-malaysia",
   "metadata": {},
   "outputs": [
    {
     "name": "stderr",
     "output_type": "stream",
     "text": [
      "/home/kalaiselvan/.local/lib/python3.6/site-packages/seaborn/_decorators.py:43: FutureWarning: Pass the following variable as a keyword arg: x. From version 0.12, the only valid positional argument will be `data`, and passing other arguments without an explicit keyword will result in an error or misinterpretation.\n",
      "  FutureWarning\n"
     ]
    },
    {
     "data": {
      "text/plain": [
       "<AxesSubplot:xlabel='item_cnt_month'>"
      ]
     },
     "execution_count": 306,
     "metadata": {},
     "output_type": "execute_result"
    },
    {
     "data": {
      "image/png": "[encoded data removed]",
      "text/plain": [
       "<Figure size 432x288 with 1 Axes>"
      ]
     },
     "metadata": {
      "needs_background": "light"
     },
     "output_type": "display_data"
    }
   ],
   "source": [
    "sns.boxplot(train_data[\"item_cnt_month\"])"
   ]
  },
  {
   "cell_type": "code",
   "execution_count": null,
   "id": "biological-boston",
   "metadata": {},
   "outputs": [],
   "source": []
  },
  {
   "cell_type": "code",
   "execution_count": 307,
   "id": "august-looking",
   "metadata": {
    "scrolled": true
   },
   "outputs": [
    {
     "name": "stdout",
     "output_type": "stream",
     "text": [
      "date_block_num\n"
     ]
    },
    {
     "name": "stderr",
     "output_type": "stream",
     "text": [
      "/home/kalaiselvan/.local/lib/python3.6/site-packages/seaborn/_decorators.py:43: FutureWarning: Pass the following variable as a keyword arg: x. From version 0.12, the only valid positional argument will be `data`, and passing other arguments without an explicit keyword will result in an error or misinterpretation.\n",
      "  FutureWarning\n"
     ]
    },
    {
     "data": {
      "image/png": "[encoded data removed]",
      "text/plain": [
       "<Figure size 288x288 with 1 Axes>"
      ]
     },
     "metadata": {
      "needs_background": "light"
     },
     "output_type": "display_data"
    },
    {
     "name": "stdout",
     "output_type": "stream",
     "text": [
      "shop_id\n"
     ]
    },
    {
     "name": "stderr",
     "output_type": "stream",
     "text": [
      "/home/kalaiselvan/.local/lib/python3.6/site-packages/seaborn/_decorators.py:43: FutureWarning: Pass the following variable as a keyword arg: x. From version 0.12, the only valid positional argument will be `data`, and passing other arguments without an explicit keyword will result in an error or misinterpretation.\n",
      "  FutureWarning\n"
     ]
    },
    {
     "data": {
      "image/png": "[encoded data removed]",
      "text/plain": [
       "<Figure size 288x288 with 1 Axes>"
      ]
     },
     "metadata": {
      "needs_background": "light"
     },
     "output_type": "display_data"
    },
    {
     "name": "stdout",
     "output_type": "stream",
     "text": [
      "item_id\n"
     ]
    },
    {
     "name": "stderr",
     "output_type": "stream",
     "text": [
      "/home/kalaiselvan/.local/lib/python3.6/site-packages/seaborn/_decorators.py:43: FutureWarning: Pass the following variable as a keyword arg: x. From version 0.12, the only valid positional argument will be `data`, and passing other arguments without an explicit keyword will result in an error or misinterpretation.\n",
      "  FutureWarning\n"
     ]
    },
    {
     "data": {
      "image/png": "[encoded data removed]",
      "text/plain": [
       "<Figure size 288x288 with 1 Axes>"
      ]
     },
     "metadata": {
      "needs_background": "light"
     },
     "output_type": "display_data"
    },
    {
     "name": "stdout",
     "output_type": "stream",
     "text": [
      "item_price\n"
     ]
    },
    {
     "name": "stderr",
     "output_type": "stream",
     "text": [
      "/home/kalaiselvan/.local/lib/python3.6/site-packages/seaborn/_decorators.py:43: FutureWarning: Pass the following variable as a keyword arg: x. From version 0.12, the only valid positional argument will be `data`, and passing other arguments without an explicit keyword will result in an error or misinterpretation.\n",
      "  FutureWarning\n"
     ]
    },
    {
     "data": {
      "image/png": "[encoded data removed]",
      "text/plain": [
       "<Figure size 288x288 with 1 Axes>"
      ]
     },
     "metadata": {
      "needs_background": "light"
     },
     "output_type": "display_data"
    },
    {
     "name": "stdout",
     "output_type": "stream",
     "text": [
      "item_cnt_month\n"
     ]
    },
    {
     "name": "stderr",
     "output_type": "stream",
     "text": [
      "/home/kalaiselvan/.local/lib/python3.6/site-packages/seaborn/_decorators.py:43: FutureWarning: Pass the following variable as a keyword arg: x. From version 0.12, the only valid positional argument will be `data`, and passing other arguments without an explicit keyword will result in an error or misinterpretation.\n",
      "  FutureWarning\n"
     ]
    },
    {
     "data": {
      "image/png": "[encoded data removed]",
      "text/plain": [
       "<Figure size 288x288 with 1 Axes>"
      ]
     },
     "metadata": {
      "needs_background": "light"
     },
     "output_type": "display_data"
    }
   ],
   "source": [
    "for feature in train_data.columns:\n",
    "    print(feature)\n",
    "    plt.figure(figsize=(4,4))\n",
    "    sns.boxplot(train_data[feature])\n",
    "    plt.show()"
   ]
  },
  {
   "cell_type": "markdown",
   "id": "declared-tsunami",
   "metadata": {},
   "source": [
    "# Skewness"
   ]
  },
  {
   "cell_type": "code",
   "execution_count": 308,
   "id": "advanced-challenge",
   "metadata": {
    "scrolled": true
   },
   "outputs": [
    {
     "data": {
      "image/png": "[encoded data removed]",
      "text/plain": [
       "<Figure size 432x288 with 1 Axes>"
      ]
     },
     "metadata": {
      "needs_background": "light"
     },
     "output_type": "display_data"
    },
    {
     "data": {
      "image/png": "[encoded data removed]",
      "text/plain": [
       "<Figure size 432x288 with 1 Axes>"
      ]
     },
     "metadata": {
      "needs_background": "light"
     },
     "output_type": "display_data"
    },
    {
     "data": {
      "image/png": "[encoded data removed]",
      "text/plain": [
       "<Figure size 432x288 with 1 Axes>"
      ]
     },
     "metadata": {
      "needs_background": "light"
     },
     "output_type": "display_data"
    },
    {
     "data": {
      "image/png": "[encoded data removed]",
      "text/plain": [
       "<Figure size 432x288 with 1 Axes>"
      ]
     },
     "metadata": {
      "needs_background": "light"
     },
     "output_type": "display_data"
    },
    {
     "data": {
      "image/png": "[encoded data removed]",
      "text/plain": [
       "<Figure size 432x288 with 1 Axes>"
      ]
     },
     "metadata": {
      "needs_background": "light"
     },
     "output_type": "display_data"
    }
   ],
   "source": [
    "for feature in train_data.columns:\n",
    "    train_data[feature].hist(bins=25)\n",
    "    plt.xlabel(feature)\n",
    "    plt.ylabel(\"Count\")\n",
    "    plt.title(feature)\n",
    "    plt.show()"
   ]
  },
  {
   "cell_type": "code",
   "execution_count": 309,
   "id": "finished-carry",
   "metadata": {},
   "outputs": [
    {
     "name": "stdout",
     "output_type": "stream",
     "text": [
      "item_price\n",
      "item_cnt_month\n"
     ]
    }
   ],
   "source": [
    "for feature in train_data.columns:\n",
    "    if 0 in train_data[feature].unique():\n",
    "        pass\n",
    "    else:\n",
    "        print(feature)\n",
    "        train_data[feature]=np.log(train_data[feature])"
   ]
  },
  {
   "cell_type": "code",
   "execution_count": 310,
   "id": "impressive-laundry",
   "metadata": {
    "scrolled": true
   },
   "outputs": [
    {
     "data": {
      "image/png": "[encoded data removed]",
      "text/plain": [
       "<Figure size 432x288 with 1 Axes>"
      ]
     },
     "metadata": {
      "needs_background": "light"
     },
     "output_type": "display_data"
    },
    {
     "data": {
      "image/png": "[encoded data removed]",
      "text/plain": [
       "<Figure size 432x288 with 1 Axes>"
      ]
     },
     "metadata": {
      "needs_background": "light"
     },
     "output_type": "display_data"
    },
    {
     "data": {
      "image/png": "[encoded data removed]",
      "text/plain": [
       "<Figure size 432x288 with 1 Axes>"
      ]
     },
     "metadata": {
      "needs_background": "light"
     },
     "output_type": "display_data"
    },
    {
     "data": {
      "image/png": "[encoded data removed]",
      "text/plain": [
       "<Figure size 432x288 with 1 Axes>"
      ]
     },
     "metadata": {
      "needs_background": "light"
     },
     "output_type": "display_data"
    },
    {
     "data": {
      "image/png": "[encoded data removed]",
      "text/plain": [
       "<Figure size 432x288 with 1 Axes>"
      ]
     },
     "metadata": {
      "needs_background": "light"
     },
     "output_type": "display_data"
    }
   ],
   "source": [
    "for feature in train_data.columns:\n",
    "    train_data[feature].hist(bins=25)\n",
    "    plt.xlabel(feature)\n",
    "    plt.ylabel(\"Count\")\n",
    "    plt.title(feature)\n",
    "    plt.show()"
   ]
  },
  {
   "cell_type": "markdown",
   "id": "d4c07089",
   "metadata": {
    "papermill": {
     "duration": 0.021897,
     "end_time": "2021-08-24T04:40:58.105664",
     "exception": false,
     "start_time": "2021-08-24T04:40:58.083767",
     "status": "completed"
    },
    "tags": []
   },
   "source": [
    "# Preparing Test Data"
   ]
  },
  {
   "cell_type": "code",
   "execution_count": 311,
   "id": "retained-postage",
   "metadata": {},
   "outputs": [
    {
     "data": {
      "text/html": [
       "<div>\n",
       "<style scoped>\n",
       "    .dataframe tbody tr th:only-of-type {\n",
       "        vertical-align: middle;\n",
       "    }\n",
       "\n",
       "    .dataframe tbody tr th {\n",
       "        vertical-align: top;\n",
       "    }\n",
       "\n",
       "    .dataframe thead th {\n",
       "        text-align: right;\n",
       "    }\n",
       "</style>\n",
       "<table border=\"1\" class=\"dataframe\">\n",
       "  <thead>\n",
       "    <tr style=\"text-align: right;\">\n",
       "      <th></th>\n",
       "      <th>ID</th>\n",
       "      <th>shop_id</th>\n",
       "      <th>item_id</th>\n",
       "    </tr>\n",
       "  </thead>\n",
       "  <tbody>\n",
       "    <tr>\n",
       "      <th>0</th>\n",
       "      <td>0</td>\n",
       "      <td>5</td>\n",
       "      <td>5037</td>\n",
       "    </tr>\n",
       "    <tr>\n",
       "      <th>1</th>\n",
       "      <td>1</td>\n",
       "      <td>5</td>\n",
       "      <td>5320</td>\n",
       "    </tr>\n",
       "    <tr>\n",
       "      <th>2</th>\n",
       "      <td>2</td>\n",
       "      <td>5</td>\n",
       "      <td>5233</td>\n",
       "    </tr>\n",
       "    <tr>\n",
       "      <th>3</th>\n",
       "      <td>3</td>\n",
       "      <td>5</td>\n",
       "      <td>5232</td>\n",
       "    </tr>\n",
       "    <tr>\n",
       "      <th>4</th>\n",
       "      <td>4</td>\n",
       "      <td>5</td>\n",
       "      <td>5268</td>\n",
       "    </tr>\n",
       "  </tbody>\n",
       "</table>\n",
       "</div>"
      ],
      "text/plain": [
       "   ID  shop_id  item_id\n",
       "0   0        5     5037\n",
       "1   1        5     5320\n",
       "2   2        5     5233\n",
       "3   3        5     5232\n",
       "4   4        5     5268"
      ]
     },
     "execution_count": 311,
     "metadata": {},
     "output_type": "execute_result"
    }
   ],
   "source": [
    "test_data=pd.read_csv('competitive-data-science-predict-future-sales/test.csv')\n",
    "\n",
    "test_data.head()"
   ]
  },
  {
   "cell_type": "markdown",
   "id": "smoking-spread",
   "metadata": {},
   "source": [
    "As Test data only consists of two data columns shop_id and item_id, other data columns like date_block_num and item price should be added."
   ]
  },
  {
   "cell_type": "code",
   "execution_count": 312,
   "id": "empty-reaction",
   "metadata": {},
   "outputs": [],
   "source": [
    "date_block_num = pd.read_csv(\"predicted/date_block_num.csv\")\n",
    "item_price = pd.read_csv(\"predicted/item_price.csv\")"
   ]
  },
  {
   "cell_type": "code",
   "execution_count": 313,
   "id": "7e3f3403",
   "metadata": {
    "execution": {
     "iopub.execute_input": "2021-08-24T04:40:58.153941Z",
     "iopub.status.busy": "2021-08-24T04:40:58.153318Z",
     "iopub.status.idle": "2021-08-24T04:40:58.167617Z",
     "shell.execute_reply": "2021-08-24T04:40:58.166867Z",
     "shell.execute_reply.started": "2021-08-24T04:34:15.773864Z"
    },
    "papermill": {
     "duration": 0.040779,
     "end_time": "2021-08-24T04:40:58.167812",
     "exception": false,
     "start_time": "2021-08-24T04:40:58.127033",
     "status": "completed"
    },
    "tags": []
   },
   "outputs": [
    {
     "data": {
      "text/html": [
       "<div>\n",
       "<style scoped>\n",
       "    .dataframe tbody tr th:only-of-type {\n",
       "        vertical-align: middle;\n",
       "    }\n",
       "\n",
       "    .dataframe tbody tr th {\n",
       "        vertical-align: top;\n",
       "    }\n",
       "\n",
       "    .dataframe thead th {\n",
       "        text-align: right;\n",
       "    }\n",
       "</style>\n",
       "<table border=\"1\" class=\"dataframe\">\n",
       "  <thead>\n",
       "    <tr style=\"text-align: right;\">\n",
       "      <th></th>\n",
       "      <th>ID</th>\n",
       "      <th>shop_id</th>\n",
       "      <th>item_id</th>\n",
       "      <th>predicted_date_block_num</th>\n",
       "    </tr>\n",
       "  </thead>\n",
       "  <tbody>\n",
       "    <tr>\n",
       "      <th>0</th>\n",
       "      <td>0</td>\n",
       "      <td>5</td>\n",
       "      <td>5037</td>\n",
       "      <td>-1.060742</td>\n",
       "    </tr>\n",
       "    <tr>\n",
       "      <th>1</th>\n",
       "      <td>1</td>\n",
       "      <td>5</td>\n",
       "      <td>5320</td>\n",
       "      <td>-0.328165</td>\n",
       "    </tr>\n",
       "    <tr>\n",
       "      <th>2</th>\n",
       "      <td>2</td>\n",
       "      <td>5</td>\n",
       "      <td>5233</td>\n",
       "      <td>-1.422938</td>\n",
       "    </tr>\n",
       "    <tr>\n",
       "      <th>3</th>\n",
       "      <td>3</td>\n",
       "      <td>5</td>\n",
       "      <td>5232</td>\n",
       "      <td>-1.456473</td>\n",
       "    </tr>\n",
       "    <tr>\n",
       "      <th>4</th>\n",
       "      <td>4</td>\n",
       "      <td>5</td>\n",
       "      <td>5268</td>\n",
       "      <td>1.177408</td>\n",
       "    </tr>\n",
       "  </tbody>\n",
       "</table>\n",
       "</div>"
      ],
      "text/plain": [
       "   ID  shop_id  item_id  predicted_date_block_num\n",
       "0   0        5     5037                 -1.060742\n",
       "1   1        5     5320                 -0.328165\n",
       "2   2        5     5233                 -1.422938\n",
       "3   3        5     5232                 -1.456473\n",
       "4   4        5     5268                  1.177408"
      ]
     },
     "execution_count": 313,
     "metadata": {},
     "output_type": "execute_result"
    }
   ],
   "source": [
    "#Adding date_block_num to the Test data\n",
    "\n",
    "# test_data['date_block_num']=34\n",
    "# test_data=test_data[['date_block_num','shop_id','item_id']]\n",
    "test_data = test_data.join(date_block_num)\n",
    "test_data.head()"
   ]
  },
  {
   "cell_type": "code",
   "execution_count": 314,
   "id": "alone-vanilla",
   "metadata": {},
   "outputs": [
    {
     "data": {
      "text/html": [
       "<div>\n",
       "<style scoped>\n",
       "    .dataframe tbody tr th:only-of-type {\n",
       "        vertical-align: middle;\n",
       "    }\n",
       "\n",
       "    .dataframe tbody tr th {\n",
       "        vertical-align: top;\n",
       "    }\n",
       "\n",
       "    .dataframe thead th {\n",
       "        text-align: right;\n",
       "    }\n",
       "</style>\n",
       "<table border=\"1\" class=\"dataframe\">\n",
       "  <thead>\n",
       "    <tr style=\"text-align: right;\">\n",
       "      <th></th>\n",
       "      <th>ID</th>\n",
       "      <th>shop_id</th>\n",
       "      <th>item_id</th>\n",
       "      <th>predicted_date_block_num</th>\n",
       "      <th>predicted_item_price</th>\n",
       "    </tr>\n",
       "  </thead>\n",
       "  <tbody>\n",
       "    <tr>\n",
       "      <th>0</th>\n",
       "      <td>0</td>\n",
       "      <td>5</td>\n",
       "      <td>5037</td>\n",
       "      <td>-1.060742</td>\n",
       "      <td>-1.638633</td>\n",
       "    </tr>\n",
       "    <tr>\n",
       "      <th>1</th>\n",
       "      <td>1</td>\n",
       "      <td>5</td>\n",
       "      <td>5320</td>\n",
       "      <td>-0.328165</td>\n",
       "      <td>-0.755100</td>\n",
       "    </tr>\n",
       "    <tr>\n",
       "      <th>2</th>\n",
       "      <td>2</td>\n",
       "      <td>5</td>\n",
       "      <td>5233</td>\n",
       "      <td>-1.422938</td>\n",
       "      <td>0.056104</td>\n",
       "    </tr>\n",
       "    <tr>\n",
       "      <th>3</th>\n",
       "      <td>3</td>\n",
       "      <td>5</td>\n",
       "      <td>5232</td>\n",
       "      <td>-1.456473</td>\n",
       "      <td>0.093423</td>\n",
       "    </tr>\n",
       "    <tr>\n",
       "      <th>4</th>\n",
       "      <td>4</td>\n",
       "      <td>5</td>\n",
       "      <td>5268</td>\n",
       "      <td>1.177408</td>\n",
       "      <td>-0.078412</td>\n",
       "    </tr>\n",
       "  </tbody>\n",
       "</table>\n",
       "</div>"
      ],
      "text/plain": [
       "   ID  shop_id  item_id  predicted_date_block_num  predicted_item_price\n",
       "0   0        5     5037                 -1.060742             -1.638633\n",
       "1   1        5     5320                 -0.328165             -0.755100\n",
       "2   2        5     5233                 -1.422938              0.056104\n",
       "3   3        5     5232                 -1.456473              0.093423\n",
       "4   4        5     5268                  1.177408             -0.078412"
      ]
     },
     "execution_count": 314,
     "metadata": {},
     "output_type": "execute_result"
    }
   ],
   "source": [
    "test_data = test_data.join(item_price)\n",
    "test_data.head()"
   ]
  },
  {
   "cell_type": "code",
   "execution_count": 315,
   "id": "bronze-bridges",
   "metadata": {},
   "outputs": [],
   "source": [
    "test_data = test_data.drop(labels = [\"ID\"],axis=1)"
   ]
  },
  {
   "cell_type": "code",
   "execution_count": 316,
   "id": "fa82f736",
   "metadata": {
    "execution": {
     "iopub.execute_input": "2021-08-24T04:40:58.217972Z",
     "iopub.status.busy": "2021-08-24T04:40:58.217381Z",
     "iopub.status.idle": "2021-08-24T04:40:58.311011Z",
     "shell.execute_reply": "2021-08-24T04:40:58.310429Z",
     "shell.execute_reply.started": "2021-08-24T04:34:15.791893Z"
    },
    "papermill": {
     "duration": 0.120389,
     "end_time": "2021-08-24T04:40:58.311147",
     "exception": false,
     "start_time": "2021-08-24T04:40:58.190758",
     "status": "completed"
    },
    "tags": []
   },
   "outputs": [],
   "source": [
    "# #Adding the latest item price from the training data into test data into their respective item id\n",
    "\n",
    "# item_price=dict(train_data.groupby('item_id')['item_price'].last().reset_index().values)\n",
    "# test_data['item_price']=test_data.item_id.map(item_price)\n",
    "# test_data.head()"
   ]
  },
  {
   "cell_type": "code",
   "execution_count": 317,
   "id": "thirty-little",
   "metadata": {},
   "outputs": [
    {
     "data": {
      "text/plain": [
       "(214200, 4)"
      ]
     },
     "execution_count": 317,
     "metadata": {},
     "output_type": "execute_result"
    }
   ],
   "source": [
    "test_data.shape"
   ]
  },
  {
   "cell_type": "code",
   "execution_count": 318,
   "id": "precious-venture",
   "metadata": {},
   "outputs": [
    {
     "data": {
      "text/plain": [
       "shop_id                     0\n",
       "item_id                     0\n",
       "predicted_date_block_num    0\n",
       "predicted_item_price        0\n",
       "dtype: int64"
      ]
     },
     "execution_count": 318,
     "metadata": {},
     "output_type": "execute_result"
    }
   ],
   "source": [
    "test_data.isnull().sum()"
   ]
  },
  {
   "cell_type": "code",
   "execution_count": 319,
   "id": "be7a24cb",
   "metadata": {
    "execution": {
     "iopub.execute_input": "2021-08-24T04:40:58.360217Z",
     "iopub.status.busy": "2021-08-24T04:40:58.359643Z",
     "iopub.status.idle": "2021-08-24T04:40:58.378706Z",
     "shell.execute_reply": "2021-08-24T04:40:58.379106Z",
     "shell.execute_reply.started": "2021-08-24T04:34:15.925350Z"
    },
    "papermill": {
     "duration": 0.045936,
     "end_time": "2021-08-24T04:40:58.379297",
     "exception": false,
     "start_time": "2021-08-24T04:40:58.333361",
     "status": "completed"
    },
    "tags": []
   },
   "outputs": [],
   "source": [
    "#Replacing Missing Value with median price\n",
    "\n",
    "# test_data['predicted_item_price']=test_data['predicted_item_price'].fillna(test_data['predicted_item_price'].median())"
   ]
  },
  {
   "cell_type": "code",
   "execution_count": 320,
   "id": "deadly-cyprus",
   "metadata": {},
   "outputs": [],
   "source": [
    "# test_data.isnull().sum()"
   ]
  },
  {
   "cell_type": "code",
   "execution_count": 321,
   "id": "oriental-trustee",
   "metadata": {},
   "outputs": [],
   "source": [
    "# for feature in test_data.columns:\n",
    "#     if 0 in test_data[feature].unique():\n",
    "#         pass\n",
    "#     else:\n",
    "#         print(feature)\n",
    "#         test_data[feature]=np.log(test_data[feature])"
   ]
  },
  {
   "cell_type": "code",
   "execution_count": 322,
   "id": "measured-thriller",
   "metadata": {},
   "outputs": [],
   "source": [
    "# test_data['item_price']=test_data['item_price'].fillna(test_data['item_price'].median())"
   ]
  },
  {
   "cell_type": "code",
   "execution_count": 323,
   "id": "fuzzy-accent",
   "metadata": {},
   "outputs": [
    {
     "data": {
      "text/plain": [
       "shop_id                     0\n",
       "item_id                     0\n",
       "predicted_date_block_num    0\n",
       "predicted_item_price        0\n",
       "dtype: int64"
      ]
     },
     "execution_count": 323,
     "metadata": {},
     "output_type": "execute_result"
    }
   ],
   "source": [
    "test_data.isnull().sum()"
   ]
  },
  {
   "cell_type": "markdown",
   "id": "880e3c0d",
   "metadata": {
    "papermill": {
     "duration": 0.022664,
     "end_time": "2021-08-24T04:40:58.424932",
     "exception": false,
     "start_time": "2021-08-24T04:40:58.402268",
     "status": "completed"
    },
    "tags": []
   },
   "source": [
    "# Preparing for Modelling"
   ]
  },
  {
   "cell_type": "code",
   "execution_count": 324,
   "id": "earned-corrections",
   "metadata": {},
   "outputs": [
    {
     "data": {
      "text/html": [
       "<div>\n",
       "<style scoped>\n",
       "    .dataframe tbody tr th:only-of-type {\n",
       "        vertical-align: middle;\n",
       "    }\n",
       "\n",
       "    .dataframe tbody tr th {\n",
       "        vertical-align: top;\n",
       "    }\n",
       "\n",
       "    .dataframe thead th {\n",
       "        text-align: right;\n",
       "    }\n",
       "</style>\n",
       "<table border=\"1\" class=\"dataframe\">\n",
       "  <thead>\n",
       "    <tr style=\"text-align: right;\">\n",
       "      <th></th>\n",
       "      <th>date_block_num</th>\n",
       "      <th>shop_id</th>\n",
       "      <th>item_id</th>\n",
       "      <th>item_price</th>\n",
       "      <th>item_cnt_month</th>\n",
       "    </tr>\n",
       "  </thead>\n",
       "  <tbody>\n",
       "    <tr>\n",
       "      <th>0</th>\n",
       "      <td>-1.536816</td>\n",
       "      <td>-1.983784</td>\n",
       "      <td>-1.706875</td>\n",
       "      <td>-0.649855</td>\n",
       "      <td>2.059322</td>\n",
       "    </tr>\n",
       "    <tr>\n",
       "      <th>1</th>\n",
       "      <td>-1.536816</td>\n",
       "      <td>-1.983784</td>\n",
       "      <td>-1.706715</td>\n",
       "      <td>-0.213787</td>\n",
       "      <td>1.032998</td>\n",
       "    </tr>\n",
       "    <tr>\n",
       "      <th>2</th>\n",
       "      <td>-1.536816</td>\n",
       "      <td>-1.983784</td>\n",
       "      <td>-1.706394</td>\n",
       "      <td>-0.542350</td>\n",
       "      <td>-0.593688</td>\n",
       "    </tr>\n",
       "    <tr>\n",
       "      <th>3</th>\n",
       "      <td>-1.536816</td>\n",
       "      <td>-1.983784</td>\n",
       "      <td>-1.705112</td>\n",
       "      <td>-0.649855</td>\n",
       "      <td>-0.593688</td>\n",
       "    </tr>\n",
       "    <tr>\n",
       "      <th>4</th>\n",
       "      <td>-1.536816</td>\n",
       "      <td>-1.983784</td>\n",
       "      <td>-1.703830</td>\n",
       "      <td>-1.185296</td>\n",
       "      <td>0.432636</td>\n",
       "    </tr>\n",
       "  </tbody>\n",
       "</table>\n",
       "</div>"
      ],
      "text/plain": [
       "   date_block_num   shop_id   item_id  item_price  item_cnt_month\n",
       "0       -1.536816 -1.983784 -1.706875   -0.649855        2.059322\n",
       "1       -1.536816 -1.983784 -1.706715   -0.213787        1.032998\n",
       "2       -1.536816 -1.983784 -1.706394   -0.542350       -0.593688\n",
       "3       -1.536816 -1.983784 -1.705112   -0.649855       -0.593688\n",
       "4       -1.536816 -1.983784 -1.703830   -1.185296        0.432636"
      ]
     },
     "execution_count": 324,
     "metadata": {},
     "output_type": "execute_result"
    }
   ],
   "source": [
    "# from sklearn.preprocessing import MinMaxScaler\n",
    "# scaler = MinMaxScaler()\n",
    "\n",
    "from sklearn.preprocessing import StandardScaler\n",
    "scaler = StandardScaler()\n",
    "\n",
    "scaler.fit(train_data)\n",
    "\n",
    "train_data = pd.DataFrame(scaler.transform(train_data), columns = train_data.columns)\n",
    "\n",
    "train_data.head()"
   ]
  },
  {
   "cell_type": "code",
   "execution_count": 325,
   "id": "sweet-tyler",
   "metadata": {},
   "outputs": [
    {
     "data": {
      "text/plain": [
       "shop_id                     0\n",
       "item_id                     0\n",
       "predicted_date_block_num    0\n",
       "predicted_item_price        0\n",
       "dtype: int64"
      ]
     },
     "execution_count": 325,
     "metadata": {},
     "output_type": "execute_result"
    }
   ],
   "source": [
    "test_data.isnull().sum()"
   ]
  },
  {
   "cell_type": "code",
   "execution_count": 326,
   "id": "random-chapter",
   "metadata": {},
   "outputs": [
    {
     "data": {
      "text/plain": [
       "shop_id                     0\n",
       "item_id                     0\n",
       "predicted_date_block_num    0\n",
       "predicted_item_price        0\n",
       "dtype: int64"
      ]
     },
     "execution_count": 326,
     "metadata": {},
     "output_type": "execute_result"
    }
   ],
   "source": [
    "scaler.fit(test_data)\n",
    "\n",
    "test_data = pd.DataFrame(scaler.transform(test_data), columns = test_data.columns)\n",
    "\n",
    "test_data.isnull().sum()"
   ]
  },
  {
   "cell_type": "code",
   "execution_count": 327,
   "id": "65eae1a5",
   "metadata": {
    "execution": {
     "iopub.execute_input": "2021-08-24T04:40:58.476466Z",
     "iopub.status.busy": "2021-08-24T04:40:58.475794Z",
     "iopub.status.idle": "2021-08-24T04:40:58.522822Z",
     "shell.execute_reply": "2021-08-24T04:40:58.523213Z",
     "shell.execute_reply.started": "2021-08-24T04:34:15.949409Z"
    },
    "papermill": {
     "duration": 0.075332,
     "end_time": "2021-08-24T04:40:58.523405",
     "exception": false,
     "start_time": "2021-08-24T04:40:58.448073",
     "status": "completed"
    },
    "tags": []
   },
   "outputs": [
    {
     "data": {
      "text/plain": [
       "((1609124, 4), (1609124,))"
      ]
     },
     "execution_count": 327,
     "metadata": {},
     "output_type": "execute_result"
    }
   ],
   "source": [
    "#allocating training data into X and y training sets\n",
    "x_train = train_data.drop('item_cnt_month',axis=1)\n",
    "y_train = train_data[\"item_cnt_month\"]\n",
    "x_test = test_data\n",
    "x_train.shape,y_train.shape"
   ]
  },
  {
   "cell_type": "code",
   "execution_count": 328,
   "id": "greenhouse-dream",
   "metadata": {},
   "outputs": [
    {
     "data": {
      "text/plain": [
       "shop_id                     0\n",
       "item_id                     0\n",
       "predicted_date_block_num    0\n",
       "predicted_item_price        0\n",
       "dtype: int64"
      ]
     },
     "execution_count": 328,
     "metadata": {},
     "output_type": "execute_result"
    }
   ],
   "source": [
    "x_test.isnull().sum()"
   ]
  },
  {
   "cell_type": "markdown",
   "id": "ac8d0da0",
   "metadata": {
    "papermill": {
     "duration": 0.023339,
     "end_time": "2021-08-24T04:40:58.570034",
     "exception": false,
     "start_time": "2021-08-24T04:40:58.546695",
     "status": "completed"
    },
    "tags": []
   },
   "source": [
    "# Training the Model"
   ]
  },
  {
   "cell_type": "markdown",
   "id": "bb6a38b6",
   "metadata": {
    "papermill": {
     "duration": 0.023918,
     "end_time": "2021-08-24T04:40:58.617889",
     "exception": false,
     "start_time": "2021-08-24T04:40:58.593971",
     "status": "completed"
    },
    "tags": []
   },
   "source": [
    "**Linear Regression**"
   ]
  },
  {
   "cell_type": "code",
   "execution_count": 329,
   "id": "703b7a06",
   "metadata": {
    "execution": {
     "iopub.execute_input": "2021-08-24T04:40:58.667943Z",
     "iopub.status.busy": "2021-08-24T04:40:58.667017Z",
     "iopub.status.idle": "2021-08-24T04:40:59.028274Z",
     "shell.execute_reply": "2021-08-24T04:40:59.027752Z",
     "shell.execute_reply.started": "2021-08-24T04:34:15.989882Z"
    },
    "papermill": {
     "duration": 0.387162,
     "end_time": "2021-08-24T04:40:59.028437",
     "exception": false,
     "start_time": "2021-08-24T04:40:58.641275",
     "status": "completed"
    },
    "tags": []
   },
   "outputs": [
    {
     "name": "stdout",
     "output_type": "stream",
     "text": [
      "[-0.05869051 -0.03171062  0.13367872 ... -0.18228539  0.07271216\n",
      "  0.15938071]\n"
     ]
    }
   ],
   "source": [
    "#Training the model\n",
    "linear_model=LinearRegression(n_jobs=10)\n",
    "linear_model.fit(x_train,y_train)\n",
    "\n",
    "#Testing the model\n",
    "linear_prediction=linear_model.predict(x_test)\n",
    "\n",
    "#output is the predicted cnt_per_month\n",
    "print(linear_prediction)"
   ]
  },
  {
   "cell_type": "code",
   "execution_count": 330,
   "id": "documentary-craps",
   "metadata": {},
   "outputs": [],
   "source": [
    "# val.to_csv(\"predicted/sample_submission.csv\", header = [\"item_cnt_month\"], index=False)"
   ]
  },
  {
   "cell_type": "markdown",
   "id": "4b9d79f5",
   "metadata": {
    "papermill": {
     "duration": 0.023251,
     "end_time": "2021-08-24T04:40:59.244854",
     "exception": false,
     "start_time": "2021-08-24T04:40:59.221603",
     "status": "completed"
    },
    "tags": []
   },
   "source": [
    "**Random Forest Regression**"
   ]
  },
  {
   "cell_type": "code",
   "execution_count": 331,
   "id": "241e8d0a",
   "metadata": {
    "execution": {
     "iopub.execute_input": "2021-08-24T04:40:59.297813Z",
     "iopub.status.busy": "2021-08-24T04:40:59.297144Z",
     "iopub.status.idle": "2021-08-24T04:46:20.039902Z",
     "shell.execute_reply": "2021-08-24T04:46:20.040472Z",
     "shell.execute_reply.started": "2021-08-24T04:34:16.365026Z"
    },
    "papermill": {
     "duration": 320.77224,
     "end_time": "2021-08-24T04:46:20.040656",
     "exception": false,
     "start_time": "2021-08-24T04:40:59.268416",
     "status": "completed"
    },
    "tags": []
   },
   "outputs": [],
   "source": [
    "# #Buliding Model in Random Forest Regressor\n",
    "# rr_model=RandomForestRegressor(n_estimators=10)\n",
    "# rr_model.fit(x_train,y_train)"
   ]
  },
  {
   "cell_type": "code",
   "execution_count": 332,
   "id": "7d80e825",
   "metadata": {
    "execution": {
     "iopub.execute_input": "2021-08-24T04:46:20.095912Z",
     "iopub.status.busy": "2021-08-24T04:46:20.094851Z",
     "iopub.status.idle": "2021-08-24T04:46:22.882605Z",
     "shell.execute_reply": "2021-08-24T04:46:22.883254Z",
     "shell.execute_reply.started": "2021-08-24T04:39:30.144504Z"
    },
    "papermill": {
     "duration": 2.819034,
     "end_time": "2021-08-24T04:46:22.883499",
     "exception": false,
     "start_time": "2021-08-24T04:46:20.064465",
     "status": "completed"
    },
    "tags": []
   },
   "outputs": [],
   "source": [
    "# # Testing the model\n",
    "# rr_predict=rr_model.predict(x_test)\n",
    "# print(rr_predict)"
   ]
  },
  {
   "cell_type": "markdown",
   "id": "f37eda18",
   "metadata": {
    "papermill": {
     "duration": 0.041179,
     "end_time": "2021-08-24T04:46:22.960279",
     "exception": false,
     "start_time": "2021-08-24T04:46:22.919100",
     "status": "completed"
    },
    "tags": []
   },
   "source": [
    "**Lasso Regression**"
   ]
  },
  {
   "cell_type": "code",
   "execution_count": 333,
   "id": "46a76d7c",
   "metadata": {
    "execution": {
     "iopub.execute_input": "2021-08-24T04:46:23.024070Z",
     "iopub.status.busy": "2021-08-24T04:46:23.023452Z",
     "iopub.status.idle": "2021-08-24T04:46:23.163404Z",
     "shell.execute_reply": "2021-08-24T04:46:23.164655Z",
     "shell.execute_reply.started": "2021-08-24T04:39:32.813110Z"
    },
    "papermill": {
     "duration": 0.172933,
     "end_time": "2021-08-24T04:46:23.164930",
     "exception": false,
     "start_time": "2021-08-24T04:46:22.991997",
     "status": "completed"
    },
    "tags": []
   },
   "outputs": [],
   "source": [
    "# #Building the Model in Lasso Regression Model\n",
    "# lasso_model=Lasso(alpha=1.0)\n",
    "# lasso_model.fit(x_train,y_train)\n",
    "\n",
    "# #Testing the Model\n",
    "# lasso_predict=lasso_model.predict(x_test)\n",
    "# print(lasso_predict)"
   ]
  },
  {
   "cell_type": "markdown",
   "id": "9eb542b4",
   "metadata": {
    "papermill": {
     "duration": 0.05088,
     "end_time": "2021-08-24T04:46:23.266550",
     "exception": false,
     "start_time": "2021-08-24T04:46:23.215670",
     "status": "completed"
    },
    "tags": []
   },
   "source": [
    "**Ridge Regression**"
   ]
  },
  {
   "cell_type": "code",
   "execution_count": 334,
   "id": "ce7dce74",
   "metadata": {
    "execution": {
     "iopub.execute_input": "2021-08-24T04:46:23.326763Z",
     "iopub.status.busy": "2021-08-24T04:46:23.325875Z",
     "iopub.status.idle": "2021-08-24T04:46:23.427484Z",
     "shell.execute_reply": "2021-08-24T04:46:23.429341Z",
     "shell.execute_reply.started": "2021-08-24T04:39:32.966152Z"
    },
    "papermill": {
     "duration": 0.135612,
     "end_time": "2021-08-24T04:46:23.429624",
     "exception": false,
     "start_time": "2021-08-24T04:46:23.294012",
     "status": "completed"
    },
    "tags": []
   },
   "outputs": [],
   "source": [
    "# #Building the model in Ridge Regression Model\n",
    "# r_model=Ridge(alpha=1.0)\n",
    "# r_model.fit(x_train,y_train)\n",
    "\n",
    "# #Testing the model\n",
    "# r_predict=r_model.predict(x_test)\n",
    "# print(r_predict)"
   ]
  },
  {
   "cell_type": "markdown",
   "id": "a6a57484",
   "metadata": {
    "papermill": {
     "duration": 0.046943,
     "end_time": "2021-08-24T04:46:23.524110",
     "exception": false,
     "start_time": "2021-08-24T04:46:23.477167",
     "status": "completed"
    },
    "tags": []
   },
   "source": [
    "# Saving the Output in CSV file"
   ]
  },
  {
   "cell_type": "code",
   "execution_count": 335,
   "id": "ecac3f56",
   "metadata": {
    "execution": {
     "iopub.execute_input": "2021-08-24T04:46:23.583469Z",
     "iopub.status.busy": "2021-08-24T04:46:23.582673Z",
     "iopub.status.idle": "2021-08-24T04:46:23.651115Z",
     "shell.execute_reply": "2021-08-24T04:46:23.650541Z",
     "shell.execute_reply.started": "2021-08-24T04:39:33.103433Z"
    },
    "papermill": {
     "duration": 0.09861,
     "end_time": "2021-08-24T04:46:23.651290",
     "exception": false,
     "start_time": "2021-08-24T04:46:23.552680",
     "status": "completed"
    },
    "tags": []
   },
   "outputs": [],
   "source": [
    "# #Creating Dataframe to Display the output, The Id is the item id from the test data and output is the predicted cnt_per_month\n",
    "\n",
    "# sample_submission= pd.read_csv(\"competitive-data-science-predict-future-sales/sample_submission.csv\")\n",
    "# sample_submission.item_cnt_month=linear_prediction\n",
    "# linear_result=sample_submission\n",
    "# print(linear_result)"
   ]
  },
  {
   "cell_type": "code",
   "execution_count": 336,
   "id": "13813c86",
   "metadata": {
    "execution": {
     "iopub.execute_input": "2021-08-24T04:46:23.707507Z",
     "iopub.status.busy": "2021-08-24T04:46:23.706645Z",
     "iopub.status.idle": "2021-08-24T04:46:24.202306Z",
     "shell.execute_reply": "2021-08-24T04:46:24.201675Z",
     "shell.execute_reply.started": "2021-08-24T04:39:33.229109Z"
    },
    "papermill": {
     "duration": 0.524995,
     "end_time": "2021-08-24T04:46:24.202440",
     "exception": false,
     "start_time": "2021-08-24T04:46:23.677445",
     "status": "completed"
    },
    "tags": []
   },
   "outputs": [],
   "source": [
    "# linear_result.to_csv(\"sample_submission.csv\",index=False)\n",
    "# print(\"Completed\")"
   ]
  }
 ],
 "metadata": {
  "kernelspec": {
   "display_name": "Python 3",
   "language": "python",
   "name": "python3"
  },
  "language_info": {
   "codemirror_mode": {
    "name": "ipython",
    "version": 3
   },
   "file_extension": ".py",
   "mimetype": "text/x-python",
   "name": "python",
   "nbconvert_exporter": "python",
   "pygments_lexer": "ipython3",
   "version": "3.6.9"
  },
  "papermill": {
   "default_parameters": {},
   "duration": 340.908542,
   "end_time": "2021-08-24T04:46:25.138707",
   "environment_variables": {},
   "exception": null,
   "input_path": "__notebook__.ipynb",
   "output_path": "__notebook__.ipynb",
   "parameters": {},
   "start_time": "2021-08-24T04:40:44.230165",
   "version": "2.3.3"
  }
 },
 "nbformat": 4,
 "nbformat_minor": 5
}
