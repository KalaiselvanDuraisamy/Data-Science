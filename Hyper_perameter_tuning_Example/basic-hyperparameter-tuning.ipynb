{
 "cells": [
  {
   "cell_type": "code",
   "execution_count": 43,
   "id": "9c9896f4",
   "metadata": {
    "_cell_guid": "b1076dfc-b9ad-4769-8c92-a6c4dae69d19",
    "_uuid": "8f2839f25d086af736a60e9eeb907d3b93b6e0e5",
    "execution": {
     "iopub.execute_input": "2021-09-02T10:58:56.684699Z",
     "iopub.status.busy": "2021-09-02T10:58:56.683689Z",
     "iopub.status.idle": "2021-09-02T10:58:56.688224Z",
     "shell.execute_reply": "2021-09-02T10:58:56.687456Z",
     "shell.execute_reply.started": "2021-09-02T10:47:27.209795Z"
    },
    "papermill": {
     "duration": 0.02596,
     "end_time": "2021-09-02T10:58:56.688394",
     "exception": false,
     "start_time": "2021-09-02T10:58:56.662434",
     "status": "completed"
    },
    "tags": []
   },
   "outputs": [],
   "source": [
    "import numpy as np\n",
    "import pandas as pd"
   ]
  },
  {
   "cell_type": "code",
   "execution_count": 44,
   "id": "7b72479e",
   "metadata": {
    "execution": {
     "iopub.execute_input": "2021-09-02T10:58:56.717404Z",
     "iopub.status.busy": "2021-09-02T10:58:56.716733Z",
     "iopub.status.idle": "2021-09-02T10:58:56.842877Z",
     "shell.execute_reply": "2021-09-02T10:58:56.842398Z",
     "shell.execute_reply.started": "2021-09-02T10:47:27.596060Z"
    },
    "papermill": {
     "duration": 0.142057,
     "end_time": "2021-09-02T10:58:56.843035",
     "exception": false,
     "start_time": "2021-09-02T10:58:56.700978",
     "status": "completed"
    },
    "tags": []
   },
   "outputs": [
    {
     "data": {
      "text/html": [
       "<div>\n",
       "<style scoped>\n",
       "    .dataframe tbody tr th:only-of-type {\n",
       "        vertical-align: middle;\n",
       "    }\n",
       "\n",
       "    .dataframe tbody tr th {\n",
       "        vertical-align: top;\n",
       "    }\n",
       "\n",
       "    .dataframe thead th {\n",
       "        text-align: right;\n",
       "    }\n",
       "</style>\n",
       "<table border=\"1\" class=\"dataframe\">\n",
       "  <thead>\n",
       "    <tr style=\"text-align: right;\">\n",
       "      <th></th>\n",
       "      <th>User ID</th>\n",
       "      <th>Gender</th>\n",
       "      <th>Age</th>\n",
       "      <th>EstimatedSalary</th>\n",
       "      <th>Purchased</th>\n",
       "    </tr>\n",
       "  </thead>\n",
       "  <tbody>\n",
       "    <tr>\n",
       "      <th>0</th>\n",
       "      <td>15624510</td>\n",
       "      <td>Male</td>\n",
       "      <td>19</td>\n",
       "      <td>19000</td>\n",
       "      <td>0</td>\n",
       "    </tr>\n",
       "    <tr>\n",
       "      <th>1</th>\n",
       "      <td>15810944</td>\n",
       "      <td>Male</td>\n",
       "      <td>35</td>\n",
       "      <td>20000</td>\n",
       "      <td>0</td>\n",
       "    </tr>\n",
       "    <tr>\n",
       "      <th>2</th>\n",
       "      <td>15668575</td>\n",
       "      <td>Female</td>\n",
       "      <td>26</td>\n",
       "      <td>43000</td>\n",
       "      <td>0</td>\n",
       "    </tr>\n",
       "    <tr>\n",
       "      <th>3</th>\n",
       "      <td>15603246</td>\n",
       "      <td>Female</td>\n",
       "      <td>27</td>\n",
       "      <td>57000</td>\n",
       "      <td>0</td>\n",
       "    </tr>\n",
       "    <tr>\n",
       "      <th>4</th>\n",
       "      <td>15804002</td>\n",
       "      <td>Male</td>\n",
       "      <td>19</td>\n",
       "      <td>76000</td>\n",
       "      <td>0</td>\n",
       "    </tr>\n",
       "  </tbody>\n",
       "</table>\n",
       "</div>"
      ],
      "text/plain": [
       "    User ID  Gender  Age  EstimatedSalary  Purchased\n",
       "0  15624510    Male   19            19000          0\n",
       "1  15810944    Male   35            20000          0\n",
       "2  15668575  Female   26            43000          0\n",
       "3  15603246  Female   27            57000          0\n",
       "4  15804002    Male   19            76000          0"
      ]
     },
     "execution_count": 44,
     "metadata": {},
     "output_type": "execute_result"
    }
   ],
   "source": [
    "d = pd.read_csv('Social_Network_Ads.csv')\n",
    "d.head()"
   ]
  },
  {
   "cell_type": "code",
   "execution_count": 45,
   "id": "df811861",
   "metadata": {
    "execution": {
     "iopub.execute_input": "2021-09-02T10:58:56.877923Z",
     "iopub.status.busy": "2021-09-02T10:58:56.877054Z",
     "iopub.status.idle": "2021-09-02T10:58:56.880356Z",
     "shell.execute_reply": "2021-09-02T10:58:56.879761Z",
     "shell.execute_reply.started": "2021-09-02T10:47:27.955675Z"
    },
    "papermill": {
     "duration": 0.024824,
     "end_time": "2021-09-02T10:58:56.880495",
     "exception": false,
     "start_time": "2021-09-02T10:58:56.855671",
     "status": "completed"
    },
    "tags": []
   },
   "outputs": [],
   "source": [
    "d['Gender'].replace({'Male':0, 'Female':1}, inplace = True)"
   ]
  },
  {
   "cell_type": "code",
   "execution_count": 46,
   "id": "3d518145",
   "metadata": {
    "execution": {
     "iopub.execute_input": "2021-09-02T10:58:56.916453Z",
     "iopub.status.busy": "2021-09-02T10:58:56.915486Z",
     "iopub.status.idle": "2021-09-02T10:58:56.919901Z",
     "shell.execute_reply": "2021-09-02T10:58:56.919397Z",
     "shell.execute_reply.started": "2021-09-02T10:47:28.401040Z"
    },
    "papermill": {
     "duration": 0.026512,
     "end_time": "2021-09-02T10:58:56.920056",
     "exception": false,
     "start_time": "2021-09-02T10:58:56.893544",
     "status": "completed"
    },
    "tags": []
   },
   "outputs": [
    {
     "data": {
      "text/html": [
       "<div>\n",
       "<style scoped>\n",
       "    .dataframe tbody tr th:only-of-type {\n",
       "        vertical-align: middle;\n",
       "    }\n",
       "\n",
       "    .dataframe tbody tr th {\n",
       "        vertical-align: top;\n",
       "    }\n",
       "\n",
       "    .dataframe thead th {\n",
       "        text-align: right;\n",
       "    }\n",
       "</style>\n",
       "<table border=\"1\" class=\"dataframe\">\n",
       "  <thead>\n",
       "    <tr style=\"text-align: right;\">\n",
       "      <th></th>\n",
       "      <th>User ID</th>\n",
       "      <th>Gender</th>\n",
       "      <th>Age</th>\n",
       "      <th>EstimatedSalary</th>\n",
       "      <th>Purchased</th>\n",
       "    </tr>\n",
       "  </thead>\n",
       "  <tbody>\n",
       "    <tr>\n",
       "      <th>0</th>\n",
       "      <td>15624510</td>\n",
       "      <td>0</td>\n",
       "      <td>19</td>\n",
       "      <td>19000</td>\n",
       "      <td>0</td>\n",
       "    </tr>\n",
       "    <tr>\n",
       "      <th>1</th>\n",
       "      <td>15810944</td>\n",
       "      <td>0</td>\n",
       "      <td>35</td>\n",
       "      <td>20000</td>\n",
       "      <td>0</td>\n",
       "    </tr>\n",
       "    <tr>\n",
       "      <th>2</th>\n",
       "      <td>15668575</td>\n",
       "      <td>1</td>\n",
       "      <td>26</td>\n",
       "      <td>43000</td>\n",
       "      <td>0</td>\n",
       "    </tr>\n",
       "    <tr>\n",
       "      <th>3</th>\n",
       "      <td>15603246</td>\n",
       "      <td>1</td>\n",
       "      <td>27</td>\n",
       "      <td>57000</td>\n",
       "      <td>0</td>\n",
       "    </tr>\n",
       "    <tr>\n",
       "      <th>4</th>\n",
       "      <td>15804002</td>\n",
       "      <td>0</td>\n",
       "      <td>19</td>\n",
       "      <td>76000</td>\n",
       "      <td>0</td>\n",
       "    </tr>\n",
       "  </tbody>\n",
       "</table>\n",
       "</div>"
      ],
      "text/plain": [
       "    User ID  Gender  Age  EstimatedSalary  Purchased\n",
       "0  15624510       0   19            19000          0\n",
       "1  15810944       0   35            20000          0\n",
       "2  15668575       1   26            43000          0\n",
       "3  15603246       1   27            57000          0\n",
       "4  15804002       0   19            76000          0"
      ]
     },
     "execution_count": 46,
     "metadata": {},
     "output_type": "execute_result"
    }
   ],
   "source": [
    "d.head()"
   ]
  },
  {
   "cell_type": "code",
   "execution_count": 47,
   "id": "needed-modem",
   "metadata": {},
   "outputs": [
    {
     "data": {
      "text/plain": [
       "(400, 5)"
      ]
     },
     "execution_count": 47,
     "metadata": {},
     "output_type": "execute_result"
    }
   ],
   "source": [
    "d.shape"
   ]
  },
  {
   "cell_type": "code",
   "execution_count": 48,
   "id": "976e45a4",
   "metadata": {
    "execution": {
     "iopub.execute_input": "2021-09-02T10:58:56.952771Z",
     "iopub.status.busy": "2021-09-02T10:58:56.951850Z",
     "iopub.status.idle": "2021-09-02T10:58:56.954869Z",
     "shell.execute_reply": "2021-09-02T10:58:56.954340Z",
     "shell.execute_reply.started": "2021-09-02T10:47:28.789673Z"
    },
    "papermill": {
     "duration": 0.02209,
     "end_time": "2021-09-02T10:58:56.955023",
     "exception": false,
     "start_time": "2021-09-02T10:58:56.932933",
     "status": "completed"
    },
    "tags": []
   },
   "outputs": [],
   "source": [
    "X = d.iloc[:,1:4]\n",
    "y = d.iloc[:, -1]"
   ]
  },
  {
   "cell_type": "code",
   "execution_count": 49,
   "id": "canadian-stake",
   "metadata": {},
   "outputs": [
    {
     "data": {
      "text/plain": [
       "((400, 3), (400,))"
      ]
     },
     "execution_count": 49,
     "metadata": {},
     "output_type": "execute_result"
    }
   ],
   "source": [
    "X.shape,y.shape"
   ]
  },
  {
   "cell_type": "code",
   "execution_count": 50,
   "id": "7e7cb148",
   "metadata": {
    "execution": {
     "iopub.execute_input": "2021-09-02T10:58:56.984880Z",
     "iopub.status.busy": "2021-09-02T10:58:56.984119Z",
     "iopub.status.idle": "2021-09-02T10:58:57.902771Z",
     "shell.execute_reply": "2021-09-02T10:58:57.902097Z",
     "shell.execute_reply.started": "2021-09-02T10:47:29.262566Z"
    },
    "papermill": {
     "duration": 0.935102,
     "end_time": "2021-09-02T10:58:57.902915",
     "exception": false,
     "start_time": "2021-09-02T10:58:56.967813",
     "status": "completed"
    },
    "tags": []
   },
   "outputs": [],
   "source": [
    "from sklearn.preprocessing import StandardScaler\n",
    "sc = StandardScaler()"
   ]
  },
  {
   "cell_type": "code",
   "execution_count": 51,
   "id": "3d42ca74",
   "metadata": {
    "execution": {
     "iopub.execute_input": "2021-09-02T10:58:57.934741Z",
     "iopub.status.busy": "2021-09-02T10:58:57.934129Z",
     "iopub.status.idle": "2021-09-02T10:58:57.939208Z",
     "shell.execute_reply": "2021-09-02T10:58:57.939641Z",
     "shell.execute_reply.started": "2021-09-02T10:47:29.875396Z"
    },
    "papermill": {
     "duration": 0.023786,
     "end_time": "2021-09-02T10:58:57.939814",
     "exception": false,
     "start_time": "2021-09-02T10:58:57.916028",
     "status": "completed"
    },
    "tags": []
   },
   "outputs": [],
   "source": [
    "X = sc.fit_transform(X)"
   ]
  },
  {
   "cell_type": "code",
   "execution_count": 52,
   "id": "51d8d7c1",
   "metadata": {
    "execution": {
     "iopub.execute_input": "2021-09-02T10:58:57.968560Z",
     "iopub.status.busy": "2021-09-02T10:58:57.967887Z",
     "iopub.status.idle": "2021-09-02T10:58:57.972818Z",
     "shell.execute_reply": "2021-09-02T10:58:57.973270Z",
     "shell.execute_reply.started": "2021-09-02T10:47:30.277571Z"
    },
    "papermill": {
     "duration": 0.020913,
     "end_time": "2021-09-02T10:58:57.973449",
     "exception": false,
     "start_time": "2021-09-02T10:58:57.952536",
     "status": "completed"
    },
    "tags": []
   },
   "outputs": [
    {
     "data": {
      "text/plain": [
       "array([[-1.02020406, -1.78179743, -1.49004624],\n",
       "       [-1.02020406, -0.25358736, -1.46068138],\n",
       "       [ 0.98019606, -1.11320552, -0.78528968],\n",
       "       ...,\n",
       "       [ 0.98019606,  1.17910958, -1.46068138],\n",
       "       [-1.02020406, -0.15807423, -1.07893824],\n",
       "       [ 0.98019606,  1.08359645, -0.99084367]])"
      ]
     },
     "execution_count": 52,
     "metadata": {},
     "output_type": "execute_result"
    }
   ],
   "source": [
    "X"
   ]
  },
  {
   "cell_type": "code",
   "execution_count": 53,
   "id": "e1eeb3a3",
   "metadata": {
    "execution": {
     "iopub.execute_input": "2021-09-02T10:58:58.006844Z",
     "iopub.status.busy": "2021-09-02T10:58:58.006237Z",
     "iopub.status.idle": "2021-09-02T10:58:58.077334Z",
     "shell.execute_reply": "2021-09-02T10:58:58.078104Z",
     "shell.execute_reply.started": "2021-09-02T10:47:30.712867Z"
    },
    "papermill": {
     "duration": 0.091835,
     "end_time": "2021-09-02T10:58:58.078356",
     "exception": false,
     "start_time": "2021-09-02T10:58:57.986521",
     "status": "completed"
    },
    "tags": []
   },
   "outputs": [],
   "source": [
    "from sklearn.model_selection import train_test_split\n",
    "X_train, X_test, y_train, y_test = train_test_split(X,y,test_size = 0.2, random_state = 1)"
   ]
  },
  {
   "cell_type": "code",
   "execution_count": 54,
   "id": "21d39420",
   "metadata": {
    "execution": {
     "iopub.execute_input": "2021-09-02T10:58:58.122605Z",
     "iopub.status.busy": "2021-09-02T10:58:58.121866Z",
     "iopub.status.idle": "2021-09-02T10:58:58.313691Z",
     "shell.execute_reply": "2021-09-02T10:58:58.313065Z",
     "shell.execute_reply.started": "2021-09-02T10:47:31.278089Z"
    },
    "papermill": {
     "duration": 0.214186,
     "end_time": "2021-09-02T10:58:58.313838",
     "exception": false,
     "start_time": "2021-09-02T10:58:58.099652",
     "status": "completed"
    },
    "tags": []
   },
   "outputs": [],
   "source": [
    "from sklearn.tree import DecisionTreeClassifier\n",
    "clf = DecisionTreeClassifier()"
   ]
  },
  {
   "cell_type": "code",
   "execution_count": 55,
   "id": "98d3d20f",
   "metadata": {
    "execution": {
     "iopub.execute_input": "2021-09-02T10:58:58.346503Z",
     "iopub.status.busy": "2021-09-02T10:58:58.345841Z",
     "iopub.status.idle": "2021-09-02T10:58:58.352894Z",
     "shell.execute_reply": "2021-09-02T10:58:58.352438Z",
     "shell.execute_reply.started": "2021-09-02T10:47:31.696125Z"
    },
    "papermill": {
     "duration": 0.025593,
     "end_time": "2021-09-02T10:58:58.353046",
     "exception": false,
     "start_time": "2021-09-02T10:58:58.327453",
     "status": "completed"
    },
    "tags": []
   },
   "outputs": [
    {
     "data": {
      "text/plain": [
       "DecisionTreeClassifier()"
      ]
     },
     "execution_count": 55,
     "metadata": {},
     "output_type": "execute_result"
    }
   ],
   "source": [
    "clf.fit(X_train,y_train)"
   ]
  },
  {
   "cell_type": "code",
   "execution_count": 56,
   "id": "46aba7cb",
   "metadata": {
    "execution": {
     "iopub.execute_input": "2021-09-02T10:58:58.384269Z",
     "iopub.status.busy": "2021-09-02T10:58:58.383587Z",
     "iopub.status.idle": "2021-09-02T10:58:58.386668Z",
     "shell.execute_reply": "2021-09-02T10:58:58.386173Z",
     "shell.execute_reply.started": "2021-09-02T10:47:32.063959Z"
    },
    "papermill": {
     "duration": 0.020483,
     "end_time": "2021-09-02T10:58:58.386800",
     "exception": false,
     "start_time": "2021-09-02T10:58:58.366317",
     "status": "completed"
    },
    "tags": []
   },
   "outputs": [],
   "source": [
    "y_pred = clf.predict(X_test)"
   ]
  },
  {
   "cell_type": "code",
   "execution_count": 57,
   "id": "3cf8d630",
   "metadata": {
    "execution": {
     "iopub.execute_input": "2021-09-02T10:58:58.418439Z",
     "iopub.status.busy": "2021-09-02T10:58:58.417464Z",
     "iopub.status.idle": "2021-09-02T10:58:58.422478Z",
     "shell.execute_reply": "2021-09-02T10:58:58.422881Z",
     "shell.execute_reply.started": "2021-09-02T10:47:32.529837Z"
    },
    "papermill": {
     "duration": 0.022862,
     "end_time": "2021-09-02T10:58:58.423070",
     "exception": false,
     "start_time": "2021-09-02T10:58:58.400208",
     "status": "completed"
    },
    "tags": []
   },
   "outputs": [
    {
     "data": {
      "text/plain": [
       "0.7875"
      ]
     },
     "execution_count": 57,
     "metadata": {},
     "output_type": "execute_result"
    }
   ],
   "source": [
    "from sklearn.metrics import accuracy_score\n",
    "accuracy_score(y_test, y_pred)"
   ]
  },
  {
   "cell_type": "code",
   "execution_count": 58,
   "id": "c654a983",
   "metadata": {
    "execution": {
     "iopub.execute_input": "2021-09-02T10:58:58.453229Z",
     "iopub.status.busy": "2021-09-02T10:58:58.452314Z",
     "iopub.status.idle": "2021-09-02T10:58:58.456322Z",
     "shell.execute_reply": "2021-09-02T10:58:58.456789Z",
     "shell.execute_reply.started": "2021-09-02T10:47:32.960649Z"
    },
    "papermill": {
     "duration": 0.020481,
     "end_time": "2021-09-02T10:58:58.456960",
     "exception": false,
     "start_time": "2021-09-02T10:58:58.436479",
     "status": "completed"
    },
    "tags": []
   },
   "outputs": [],
   "source": [
    "params = {\n",
    "    'criterion': ['gini', 'entropy'],\n",
    "    'max_depth': [1,2,3,4,5,6,7,None]\n",
    "}"
   ]
  },
  {
   "cell_type": "code",
   "execution_count": 59,
   "id": "6fea4c38",
   "metadata": {
    "execution": {
     "iopub.execute_input": "2021-09-02T10:58:58.487077Z",
     "iopub.status.busy": "2021-09-02T10:58:58.486139Z",
     "iopub.status.idle": "2021-09-02T10:58:58.490270Z",
     "shell.execute_reply": "2021-09-02T10:58:58.490690Z",
     "shell.execute_reply.started": "2021-09-02T10:47:51.924457Z"
    },
    "papermill": {
     "duration": 0.020522,
     "end_time": "2021-09-02T10:58:58.490866",
     "exception": false,
     "start_time": "2021-09-02T10:58:58.470344",
     "status": "completed"
    },
    "tags": []
   },
   "outputs": [],
   "source": [
    "from sklearn.model_selection import GridSearchCV\n",
    "grid = GridSearchCV(clf,param_grid = params, cv = 10, n_jobs = -1)"
   ]
  },
  {
   "cell_type": "code",
   "execution_count": 60,
   "id": "505d7bf4",
   "metadata": {
    "execution": {
     "iopub.execute_input": "2021-09-02T10:58:58.520895Z",
     "iopub.status.busy": "2021-09-02T10:58:58.519979Z",
     "iopub.status.idle": "2021-09-02T10:59:00.882445Z",
     "shell.execute_reply": "2021-09-02T10:59:00.881686Z",
     "shell.execute_reply.started": "2021-09-02T10:48:23.822437Z"
    },
    "papermill": {
     "duration": 2.378354,
     "end_time": "2021-09-02T10:59:00.882606",
     "exception": false,
     "start_time": "2021-09-02T10:58:58.504252",
     "status": "completed"
    },
    "tags": []
   },
   "outputs": [
    {
     "data": {
      "text/plain": [
       "GridSearchCV(cv=10, estimator=DecisionTreeClassifier(), n_jobs=-1,\n",
       "             param_grid={'criterion': ['gini', 'entropy'],\n",
       "                         'max_depth': [1, 2, 3, 4, 5, 6, 7, None]})"
      ]
     },
     "execution_count": 60,
     "metadata": {},
     "output_type": "execute_result"
    }
   ],
   "source": [
    "grid.fit(X_train, y_train)"
   ]
  },
  {
   "cell_type": "code",
   "execution_count": 61,
   "id": "b495b1b3",
   "metadata": {
    "execution": {
     "iopub.execute_input": "2021-09-02T10:59:00.917707Z",
     "iopub.status.busy": "2021-09-02T10:59:00.916823Z",
     "iopub.status.idle": "2021-09-02T10:59:00.920908Z",
     "shell.execute_reply": "2021-09-02T10:59:00.920445Z",
     "shell.execute_reply.started": "2021-09-02T10:49:14.599720Z"
    },
    "papermill": {
     "duration": 0.02328,
     "end_time": "2021-09-02T10:59:00.921071",
     "exception": false,
     "start_time": "2021-09-02T10:59:00.897791",
     "status": "completed"
    },
    "tags": []
   },
   "outputs": [
    {
     "data": {
      "text/plain": [
       "DecisionTreeClassifier(max_depth=2)"
      ]
     },
     "execution_count": 61,
     "metadata": {},
     "output_type": "execute_result"
    }
   ],
   "source": [
    "grid.best_estimator_"
   ]
  },
  {
   "cell_type": "code",
   "execution_count": 62,
   "id": "8c3c4e14",
   "metadata": {
    "execution": {
     "iopub.execute_input": "2021-09-02T10:59:00.953844Z",
     "iopub.status.busy": "2021-09-02T10:59:00.953222Z",
     "iopub.status.idle": "2021-09-02T10:59:00.955889Z",
     "shell.execute_reply": "2021-09-02T10:59:00.956409Z",
     "shell.execute_reply.started": "2021-09-02T10:49:31.740003Z"
    },
    "papermill": {
     "duration": 0.021442,
     "end_time": "2021-09-02T10:59:00.956573",
     "exception": false,
     "start_time": "2021-09-02T10:59:00.935131",
     "status": "completed"
    },
    "tags": []
   },
   "outputs": [
    {
     "data": {
      "text/plain": [
       "0.91875"
      ]
     },
     "execution_count": 62,
     "metadata": {},
     "output_type": "execute_result"
    }
   ],
   "source": [
    "grid.best_score_"
   ]
  },
  {
   "cell_type": "code",
   "execution_count": 63,
   "id": "884eb9db",
   "metadata": {
    "execution": {
     "iopub.execute_input": "2021-09-02T10:59:00.988136Z",
     "iopub.status.busy": "2021-09-02T10:59:00.987496Z",
     "iopub.status.idle": "2021-09-02T10:59:00.993734Z",
     "shell.execute_reply": "2021-09-02T10:59:00.992776Z",
     "shell.execute_reply.started": "2021-09-02T10:53:15.806656Z"
    },
    "papermill": {
     "duration": 0.02307,
     "end_time": "2021-09-02T10:59:00.993906",
     "exception": false,
     "start_time": "2021-09-02T10:59:00.970836",
     "status": "completed"
    },
    "tags": []
   },
   "outputs": [
    {
     "data": {
      "text/plain": [
       "{'criterion': 'gini', 'max_depth': 2}"
      ]
     },
     "execution_count": 63,
     "metadata": {},
     "output_type": "execute_result"
    }
   ],
   "source": [
    " grid.best_params_"
   ]
  }
 ],
 "metadata": {
  "kernelspec": {
   "display_name": "Python 3",
   "language": "python",
   "name": "python3"
  },
  "language_info": {
   "codemirror_mode": {
    "name": "ipython",
    "version": 3
   },
   "file_extension": ".py",
   "mimetype": "text/x-python",
   "name": "python",
   "nbconvert_exporter": "python",
   "pygments_lexer": "ipython3",
   "version": "3.6.9"
  },
  "papermill": {
   "default_parameters": {},
   "duration": 12.747804,
   "end_time": "2021-09-02T10:59:01.820114",
   "environment_variables": {},
   "exception": null,
   "input_path": "__notebook__.ipynb",
   "output_path": "__notebook__.ipynb",
   "parameters": {},
   "start_time": "2021-09-02T10:58:49.072310",
   "version": "2.3.3"
  }
 },
 "nbformat": 4,
 "nbformat_minor": 5
}
